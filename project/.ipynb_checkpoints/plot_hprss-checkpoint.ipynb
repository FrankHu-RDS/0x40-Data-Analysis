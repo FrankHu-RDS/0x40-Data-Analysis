{
 "cells": [
  {
   "cell_type": "code",
   "execution_count": null,
   "metadata": {
    "collapsed": false,
    "jupyter": {
     "outputs_hidden": false
    }
   },
   "outputs": [],
   "source": [
    "%matplotlib inline"
   ]
  },
  {
   "cell_type": "markdown",
   "metadata": {},
   "source": [
    "\n",
    "# Harmonic-percussive source separation\n",
    "\n",
    "This notebook illustrates how to separate an audio signal into\n",
    "its harmonic and percussive components.\n",
    "\n",
    "We'll compare the original median-filtering based approach of\n",
    "`Fitzgerald, 2010 <http://arrow.dit.ie/cgi/viewcontent.cgi?article=1078&context=argcon>`_\n",
    "and its margin-based extension due to `Dreidger, Mueller and Disch, 2014\n",
    "<http://www.terasoft.com.tw/conf/ismir2014/proceedings/T110_127_Paper.pdf>`_.\n"
   ]
  },
  {
   "cell_type": "code",
   "execution_count": 4,
   "metadata": {
    "collapsed": false,
    "jupyter": {
     "outputs_hidden": false
    }
   },
   "outputs": [],
   "source": [
    "# ran into this issue\n",
    "# https://github.com/librosa/librosa/issues/219\n",
    "# if using mac/linux I had to install ffmpeg to parse the audio. If using windows you might need to do something else. Librosa uses a 3rd party app to load audio files, and it doesn't tell you how to fix errors if there are any with loading \n",
    "# the audio files. \n",
    "\n",
    "import numpy as np\n",
    "import matplotlib.pyplot as plt\n",
    "\n",
    "import librosa\n",
    "import librosa.display\n",
    "import sklearn\n",
    "\n",
    "import numpy as np\n",
    "from collections import Counter, defaultdict\n",
    "import time\n",
    "import math\n",
    "from numpy import mean\n",
    "from numpy import std\n",
    "from sklearn.datasets import make_classification\n",
    "from sklearn.model_selection import cross_val_score\n",
    "from sklearn.model_selection import RepeatedStratifiedKFold\n",
    "from sklearn.ensemble import RandomForestClassifier\n",
    "from sklearn import preprocessing\n",
    "\n",
    "import xml.dom.minidom\n",
    "import os\n",
    "from os.path import exists\n",
    "from collections import defaultdict\n",
    "\n",
    "## Below is the example code on how to utilize Librosa with harmonic-percussive source seperation."
   ]
  },
  {
   "cell_type": "markdown",
   "metadata": {},
   "source": [
    "Load an example clip with harmonics and percussives\n",
    "\n"
   ]
  },
  {
   "cell_type": "code",
   "execution_count": null,
   "metadata": {
    "collapsed": false,
    "jupyter": {
     "outputs_hidden": false
    }
   },
   "outputs": [],
   "source": [
    "y, sr = librosa.load('chocomint.flac', duration=5, offset=10)"
   ]
  },
  {
   "cell_type": "markdown",
   "metadata": {},
   "source": [
    "Compute the short-time Fourier transform of y\n",
    "\n"
   ]
  },
  {
   "cell_type": "code",
   "execution_count": null,
   "metadata": {
    "collapsed": false,
    "jupyter": {
     "outputs_hidden": false
    }
   },
   "outputs": [],
   "source": [
    "D = librosa.stft(y)"
   ]
  },
  {
   "cell_type": "markdown",
   "metadata": {},
   "source": [
    "Decompose D into harmonic and percussive components\n",
    "\n",
    "$D = D_\\text{harmonic} + D_\\text{percussive}$\n",
    "\n"
   ]
  },
  {
   "cell_type": "code",
   "execution_count": null,
   "metadata": {
    "collapsed": false,
    "jupyter": {
     "outputs_hidden": false
    }
   },
   "outputs": [],
   "source": [
    "D_harmonic, D_percussive = librosa.decompose.hpss(D)"
   ]
  },
  {
   "cell_type": "markdown",
   "metadata": {},
   "source": [
    "We can plot the two components along with the original spectrogram\n",
    "\n"
   ]
  },
  {
   "cell_type": "code",
   "execution_count": null,
   "metadata": {
    "collapsed": false,
    "jupyter": {
     "outputs_hidden": false
    }
   },
   "outputs": [],
   "source": [
    "# Pre-compute a global reference power from the input spectrum\n",
    "rp = np.max(np.abs(D))\n",
    "\n",
    "fig, ax = plt.subplots(nrows=3, sharex=True, sharey=True)\n",
    "\n",
    "img = librosa.display.specshow(librosa.amplitude_to_db(np.abs(D), ref=rp),\n",
    "                         y_axis='log', x_axis='time', ax=ax[0])\n",
    "ax[0].set(title='Full spectrogram')\n",
    "ax[0].label_outer()\n",
    "\n",
    "librosa.display.specshow(librosa.amplitude_to_db(np.abs(D_harmonic), ref=rp),\n",
    "                         y_axis='log', x_axis='time', ax=ax[1])\n",
    "ax[1].set(title='Harmonic spectrogram')\n",
    "ax[1].label_outer()\n",
    "\n",
    "librosa.display.specshow(librosa.amplitude_to_db(np.abs(D_percussive), ref=rp),\n",
    "                         y_axis='log', x_axis='time', ax=ax[2])\n",
    "ax[2].set(title='Percussive spectrogram')\n",
    "fig.colorbar(img, ax=ax)"
   ]
  },
  {
   "cell_type": "markdown",
   "metadata": {},
   "source": [
    "The default HPSS above assigns energy to each time-frequency bin according to\n",
    "whether a horizontal (harmonic) or vertical (percussive) filter responds higher\n",
    "at that position.\n",
    "\n",
    "This assumes that all energy belongs to either a harmonic or percussive source,\n",
    "but does not handle \"noise\" well.  Noise energy ends up getting spread between\n",
    "D_harmonic and D_percussive.\n",
    "\n",
    "If we instead require that the horizontal filter responds more than the vertical\n",
    "filter *by at least some margin*, and vice versa, then noise can be removed\n",
    "from both components.\n",
    "\n",
    "Note: the default (above) corresponds to margin=1\n",
    "\n"
   ]
  },
  {
   "cell_type": "code",
   "execution_count": null,
   "metadata": {
    "collapsed": false,
    "jupyter": {
     "outputs_hidden": false
    }
   },
   "outputs": [],
   "source": [
    "# Let's compute separations for a few different margins and compare the results below\n",
    "D_harmonic2, D_percussive2 = librosa.decompose.hpss(D, margin=2)\n",
    "D_harmonic4, D_percussive4 = librosa.decompose.hpss(D, margin=4)\n",
    "D_harmonic8, D_percussive8 = librosa.decompose.hpss(D, margin=8)\n",
    "D_harmonic16, D_percussive16 = librosa.decompose.hpss(D, margin=16)"
   ]
  },
  {
   "cell_type": "markdown",
   "metadata": {},
   "source": [
    "In the plots below, note that vibrato has been suppressed from the harmonic\n",
    "components, and vocals have been suppressed in the percussive components.\n",
    "\n"
   ]
  },
  {
   "cell_type": "code",
   "execution_count": null,
   "metadata": {
    "collapsed": false,
    "jupyter": {
     "outputs_hidden": false
    }
   },
   "outputs": [],
   "source": [
    "fig, ax = plt.subplots(nrows=5, ncols=2, sharex=True, sharey=True, figsize=(10, 10))\n",
    "librosa.display.specshow(librosa.amplitude_to_db(np.abs(D_harmonic), ref=rp),\n",
    "                         y_axis='log', x_axis='time', ax=ax[0, 0])\n",
    "ax[0, 0].set(title='Harmonic')\n",
    "\n",
    "librosa.display.specshow(librosa.amplitude_to_db(np.abs(D_percussive), ref=rp),\n",
    "                         y_axis='log', x_axis='time', ax=ax[0, 1])\n",
    "ax[0, 1].set(title='Percussive')\n",
    "print(D_percussive)\n",
    "\n",
    "librosa.display.specshow(librosa.amplitude_to_db(np.abs(D_harmonic2), ref=rp),\n",
    "                         y_axis='log', x_axis='time', ax=ax[1, 0])\n",
    "\n",
    "librosa.display.specshow(librosa.amplitude_to_db(np.abs(D_percussive2), ref=rp),\n",
    "                         y_axis='log', x_axis='time', ax=ax[1, 1])\n",
    "\n",
    "librosa.display.specshow(librosa.amplitude_to_db(np.abs(D_harmonic4), ref=rp),\n",
    "                         y_axis='log', x_axis='time', ax=ax[2, 0])\n",
    "\n",
    "librosa.display.specshow(librosa.amplitude_to_db(np.abs(D_percussive4), ref=rp),\n",
    "                         y_axis='log', x_axis='time', ax=ax[2, 1])\n",
    "\n",
    "librosa.display.specshow(librosa.amplitude_to_db(np.abs(D_harmonic8), ref=rp),\n",
    "                         y_axis='log', x_axis='time', ax=ax[3, 0])\n",
    "\n",
    "librosa.display.specshow(librosa.amplitude_to_db(np.abs(D_percussive8), ref=rp),\n",
    "                         y_axis='log', x_axis='time', ax=ax[3, 1])\n",
    "\n",
    "librosa.display.specshow(librosa.amplitude_to_db(np.abs(D_harmonic16), ref=rp),\n",
    "                         y_axis='log', x_axis='time', ax=ax[4, 0])\n",
    "\n",
    "librosa.display.specshow(librosa.amplitude_to_db(np.abs(D_percussive16), ref=rp),\n",
    "                         y_axis='log', x_axis='time', ax=ax[4, 1])\n",
    "\n",
    "for i in range(5):\n",
    "    ax[i, 0].set(ylabel='margin={:d}'.format(2**i))\n",
    "    ax[i, 0].label_outer()\n",
    "    ax[i, 1].label_outer()"
   ]
  },
  {
   "cell_type": "markdown",
   "metadata": {},
   "source": [
    "## Below is where code starts for 0x40 hues to parse respacks and audio."
   ]
  },
  {
   "cell_type": "code",
   "execution_count": 5,
   "metadata": {},
   "outputs": [
    {
     "name": "stdout",
     "output_type": "stream",
     "text": [
      "['IntegralStoryMix', 'Xmas', 'HuesMixB', 'Royalty', 'Thistle', 'WeekendInsideMix', 'AprilHues', 'ShuttersPack', \"Tylup's pack\", 'HuesMixA', 'PackShit', '420', '.ipynb_checkpoints', 'DefaultsHQ', '.ipynb_checkpoints', 'Yukata', '.ipynb_checkpoints', 'snoop', '.ipynb_checkpoints', '.ipynb_checkpoints', 'Animations', 'Bob']\n"
     ]
    }
   ],
   "source": [
    "# parse for the song names and folders\n",
    "respack_folders = []\n",
    "for directory, sub_directories, files in os.walk('./Respacks/'):\n",
    "    for folder in sub_directories:\n",
    "        if folder != 'Songs' and folder != 'characters' and folder != 'Images':\n",
    "            respack_folders.append(folder)\n",
    "print(respack_folders)"
   ]
  },
  {
   "cell_type": "code",
   "execution_count": 6,
   "metadata": {},
   "outputs": [
    {
     "name": "stdout",
     "output_type": "stream",
     "text": [
      "./Respacks/IntegralStoryMix/songs.xml\n",
      "./Respacks/Xmas/songs.xml\n",
      "./Respacks/HuesMixB/songs.xml\n",
      "./Respacks/Royalty/songs.xml\n",
      "./Respacks/Thistle/songs.xml\n",
      "./Respacks/WeekendInsideMix/songs.xml\n",
      "./Respacks/AprilHues/songs.xml\n",
      "./Respacks/ShuttersPack/songs.xml\n",
      "./Respacks/Tylup's pack/songs.xml\n",
      "./Respacks/HuesMixA/songs.xml\n",
      "./Respacks/PackShit/songs.xml\n",
      "./Respacks/420/songs.xml\n",
      "./Respacks/.ipynb_checkpoints/songs.xml\n",
      "bad path name ./Respacks/.ipynb_checkpoints/songs.xml\n",
      "./Respacks/DefaultsHQ/songs.xml\n",
      "./Respacks/.ipynb_checkpoints/songs.xml\n",
      "bad path name ./Respacks/.ipynb_checkpoints/songs.xml\n",
      "./Respacks/Yukata/songs.xml\n",
      "bad path name ./Respacks/Yukata/songs.xml\n",
      "./Respacks/.ipynb_checkpoints/songs.xml\n",
      "bad path name ./Respacks/.ipynb_checkpoints/songs.xml\n",
      "./Respacks/snoop/songs.xml\n",
      "bad path name ./Respacks/snoop/songs.xml\n",
      "./Respacks/.ipynb_checkpoints/songs.xml\n",
      "bad path name ./Respacks/.ipynb_checkpoints/songs.xml\n",
      "./Respacks/.ipynb_checkpoints/songs.xml\n",
      "bad path name ./Respacks/.ipynb_checkpoints/songs.xml\n",
      "./Respacks/Animations/songs.xml\n",
      "bad path name ./Respacks/Animations/songs.xml\n",
      "./Respacks/Bob/songs.xml\n",
      "bad path name ./Respacks/Bob/songs.xml\n",
      "dict_items([('Netsky - Puppy', 'o...x...o...x...o...x...o...x...o...x...o...x...o...x...o...x...o...x...o...x...o...x...o...x...o...x...o...x...o...x...o...x...'), ('Blake McGrath- Motion Picture (Pegboard Nerds Remix)_Loop', 'o...x...o...x...o...x...o...x...o...x::.o...x..:o|||||||||||-.-.o...x...o...x...o...x...o...x...o...x::.o...x..|o|||||||||||||-.o..:x:.:o...x...o...x:.:o---x...o...x::.o...x..:o|||||||||||-.-.o..:x:.:o...x...o...x:..o---x...o...x::.o...x..:+...............'), ('lrad', 'o..:o.:.o.:.o.:.o..:o.:.o.:.+...o..:o.:.o.:.o.:.o..:o.:.o.:.o.-.o..:o.:.o.:.o.:.o..:o.:.o.:.+...o..:o.:.o.:.o.:.x...x...x...x...'), ('hues_nieve_loop', 'o...x.....o.x...o...x.....o.x...o...x.....o.x...o...x.....o.x...o...x.....o.x...o...x.....o.x...o...x.....o.x...o...x.....o.x...o...x.....o.x...o...x.....o.x...o...x.....o.x...o...x.....o.x...o...x.....o.x...o...x.....o.x...o...x.....o.x...o...x.....o.x...'), ('Diversa - Crow (VIP)_Loop', 'o...:...x...ooo.....:.o.x...:...o...:...x.o.o.o.....:.o.x...:...o...:...x...ooo.....:.o.x...:...o...:...x..x..o.:.o.:.o.x...:...o...:...x...ooo.....:.o.x...:.o.o...:...x.o.o.o.....:.o.x.o.:...o...:...x...ooo.....:.o.x...:...o...:...x..x..o...o.:.o.x...:...o.x.:...x...ooo.....:.o.x...:.o.o.x.:...x.o.o.o.....:.o.x...:...o.o.:...x...ooo.....:.o.x...:...o.o.:...x..x..o...o.:.o.x...:...o.x.:...x...ooo.....:.o.x...:...o.x.:...x.o.o.o.....:.o.x.o.:...o.o.:...x...ooo.....:.o.x...:...o...:...x..x..o...o.:.o.x...+...'), ('bignic-help', 'o...:..x...:..o...:..x...:..o...:..x...:..o...:..x...:..o...:..x...:..o...:..x...:..o...:..x...:..o...:..x...:..o...:..x...:..o...:..x...:..o...:..x...:..o...:..x...:..o...:..x...:..o...:..x...:..o...:..x...:..o...:..x...:..'), ('01 Want You Gone', 'o...o...x...o.o...o.o...x.......o...o...x...o.o...o.o...x.......o...o...x...o.o...o.o...x.......o...o...x...o.o...o.o...x...||||'), ('01 everything_except', 'o.......x...........o...x.......o.......x...........o...x.......o.......x...........o...x.......o.......x...........o.x...o.x...o.......x...........o...x.......o.......x...........o...x.......o.......x...........o...x.......o.......x...........o...x.|||...'), ('KOAN Sound & Asa - Starlite', 'o...x:::::x::::::o.o.x::::::x::::::o.:..x:::::x::::::o.:..x.:-.:-----o.:..x::::::x::::::o...x::::::x::::::o...x..:.:x...:.:x..:.:x...:.:x:o.o.:.x::::::x::::::o.o.x::::::x::::::o.:..x:::::x::::::o.|...::..:-----o.:::x.o.:::x...o.o...x..----x...--o....x..o....x...:.:x..:.:x...:.:x:o.o...x::::::x::::::o.o.x::::::x::::::o....x:::::x:::::o...x::::::x::----o.:.x::::::x::::::o...x:::::x::::::o.:.x...:.:x...:.:x...:.:x...:.:x:o.o.:..x::::::x:::::o.o.x::::::x::::::o....x::::::x::::::o.|.x.....:-----o...x..o..:x....o.o...x...---x..:::.:.:.:.:.:.:.:.:.:.:.:.:.:.:.:.:.:.o....o...x...:::o...x....o.x..::o:..o....o...x...:::x...x.o....x.o....x.o...o....x...::o...x....o.x...::x:.o.o.o...x...:::x...:.:x...:.:x.o.o.o....o...x....::x...x..o.oox....o...o....o...x...:::x...x|o....x.o....x.o...o....x...::o....x...o..x...::x.o.o.o...x..:.:x...:.:x...:.:x.:.:.:.'), ('loop_EVE', 'o.:.x.:.o..:x.:.o:.:x:.~........o.:.x...o:.:x...o.::x:.~........o..:x.:.o:.:x...o.::x:::o:.:x...o.:.x:.:o..:x.:.o:..x...o..:x.:.'), ('loop_CaroloftheBells', 'o.:.:.:.:.:.x.-.-.-.-.-.o.:.:.:.:.:.x.:.:.:.:.:.o.:.:.:.:.:.x.||||||||||o.:.:.:.:.:.x.:.:.:.:.:.o.:.:.:.:.:.x.-.-.-.-.-.o.:.:.:.:.:.x.:.:.:.:.:.o.:.:.:.:.:.x.-.-.-.-.*.o.:.:.:.:.o.x.o.:.o.:.o.o.:.:.:.:.:.x.-.-.-.-.-.o.:.:.:.:.:.x.:.:.:.:.:.o.:.:.:.:.:.x.||||||||||o.:.:.:.:.:.x.:.:.:.:.:.o.:.:.:.:.:.x.-.-.-.-.-.o.:.:.:.:.:.x.:.:.:.:.:.o.:.:.:.:.:.x.-.-.-.-.*.o.:.:.:.:.o.x.o.:.x.x.x.'), ('loop_SleighRide', 'o.......x.......o...o.o.x.......o.......x.......o...o.o.x.......o.......x.......o...o.o.x.......o.......x.......o...o.o.x...-.-.o.......x.......o.......x...o...o.......x...-.-.o.......x.......o.......x...o...o.......x...o...o.......x...o.o.o.---.-.x.-.-.-.'), ('loop_jingle', 'o..ox.o...o.x...o..ox.o...o.x...o..ox.o...o.x...o..ox.o...o.x...o.:.x.o.::..x...o.:.x.o.::..x...o.:.x.o.::..x...o.:.x.o.::..x...o..ox.o...o.x...o..ox.o...o.x...o..ox.o...o.x...o..ox.o...o.x...o.:.x.o.::..x...o.:.x.o.::..x...o.:.x.o.::..x...o.:.x.o.::..x...'), ('loop_deck', 'o.......x.-.-.o...o...o.x...o.o.o.......x~......o.....o.x*******o.......x.-.-.o...o...o.x...o.o.o.......x~......o.....o.x-------o.....o.x.-.-.oox.o.x.o.o~......o.......x~......o.....o.x+x+x+x+o:::::::x:::::o:::o:::o:xxoox:o:o:::::::x~......o::o::o:x..x..+.'), ('loop_wizardsinwinter', 'o.:...o..o.:....:.o.:....o.o.:...:..o.:....o.o.:....:.x.:..:.:.:.:..:.:.o.:....o.o.:....:.o.:....o.o.:....:.o..:...o.o..:...:.x..:.:.:.:..:.:.:.x....x...o....x....o...x.o.o....x....o...x....o...x...x..:.:..:.:.:.:.:.x....x....o...x....o...x.o..o...x....o...x....o...x....x.....:..:.:.:.:..x......:.:.:..:.:.x......x.x......x.x....x...x....xoooo::::x:::o::::x:::o::::x:o:o::::x:::o::::x:::o::::x:::x..:.:.:.:..:.:.:.x::::x:::o::::x:::o::::x:o:o::::x:::o::::x::::o:::x:::x......:.:..:.:.:..x......:.:.:.:.:..x......x.x......x.x...:....:...:....:...:....:...:....'), ('loop_SugarPlumFairy', '-.-.-.x.:.:.-.-.-.x.:.:.-.-.-.x.:.:.-.-.-.x.:.:.-.-.-.x.:.:.-.-.-.x.:.:.:.xxxxx.:.:.x.x.:.:.x.x.:.:.o.x...o.o...o.x...o.o...o.x...o.o...o.x...o.o...o.x...o.o...o.x...o.o...o.x...o.o.x.x.x.x.x.x.x.:.x.:.:.x.:.:.x.:.:.x.:.:.x.:.:.x.:.:.x.:.:.x.:.:.x.:.:.x.:.:.x.:.:.x.xxxxxx:.-.-.-.-.-.x.x.'), ('loop_OChristmasTree', '....=.......=.......=.......=.::....=.......=.......=.....***.=.....=.......=.......=.......=.::....=.......=.......=.......=.......=.......=.......=.......=:::....=.......=.......=.......||||||..=.......=.......=.......=.::....=.......=...‑.‑‑=.‑.‑.***.=.....=.......=.......=.......=.::....=.......=.......=.....***.=.....=.......=.......=.......=.::....=.......=.......=.......=.......=.......=.......=.......=:::....=.......=.......=.......||||||..=.......=.......=.......=.::....=.......=...‑.‑‑=.‑.‑.***.=.'), ('loop_Goodbye', 'o...x...o...x...o...x...o...x.o.o...x...o...x...o...x...o...x.o.o...x...o...x...o...x...o...x.o.o...x...o...x...o.......x....‑‑‑o.......x.....+.=.+.=.+.=.+.=.+.=.......x.....o.o...:.:.x..:..:.o...x...o...x...o...x...o...x.o.o...x...o...x...o...o.o.x..o..o.'), ('loop_ThisCityisKillingMe', 'o..:.:o.x...x...o.:.:.:.x.:.:.:.o.:.-.o.x...x.:.o...o...x...x...o..:.:o.x...x...o.+..o..x.:...o.o+.x-.o.x.x..x..o...x.:.:...:...o..:.:o.x...x...o.:.:.:.x.:.:.:.o.:.-.o.x...o.:.o.:.:.:.:...-+..o.:....x....o...o---x-.-x.....:.o...-.o.x...o.:.o...o.:.o...:.:.'), ('loop_Daymanstep', '+.......o...............x.............o.o.............+.x..+.x..+.x...+.x...............x.............o.o.............+.o..+.o..+.o...+.o...............x.............o.o.............+.x..+.x..+.x...+.x.............o.x.............o.o.............+.o..+.o..+.o...+.o...............x.............o.o.............+.x..+.x..+.x...+.x...............x.............o.o.............+.o..+.o..+.o...+.o...............x.............o.o.............+.x..+.x..+.x...+.o....o....o.....o....o....o.....o.o..o..o.o..o..o.......'), ('loop_Windowlicker', 'o...x.....o.x.......x..xo...x...o.x.x.o..o..x.....o.x.o..o..x...o...x.....o.x.......x..xo...x...o...x....o..x.....o.x....o..x...o...x.....o.x.......x..xo...x...o...x....o..x.....o.x....o..x...o...x.....o.x.......x..xo...x...o...x.o..o..x.....o.x.o..o..x...'), ('loop_BlueMazda323', 'o..ox..o..o.x...o..ox..o..o.x...o..ox..o..o.x...o..ox..o..o.x...oo..x..o....x...o...xo.o....x...oo..x..o....x...o...xo.o....x...oo..x..o....x...o...xo.o....x...oo..x..o....x...o...xo.o....x...oo..x..o....x...o...xo.o....x...oo..x..o....x...o...xo.o....x...'), ('loop_Roses', 'o...x...o.o.x.o.....x...o.o.x.o.o...x...o.o.x.o.....x..oo.o.x...o...x...o.o.x...o...x...o.o.x...o...x...o.o.x.o.....x...x.o.x...'), ('loop_YumeNikkiMegaMix', 'o...x.....o.x...o...x.....o.x..xo.o.x.....o.x...o...x....xo.x.oxo...x.....o.x...o...x.....o.x.oxo...x..xo.o.x...o...x....xo.xxxxo...x.....o.x...o...x.....o.x..xo.o.x.....o.x...o.--x.----o-x.--o...x.....o.x...o...x.....o.o.xxo...x.o.o.o.x...+...........o.x.o...x.....o.x...o...x.....o.x..xo.o.x.....o.x...o...x....xo.x.oxo...x.....o.x...o...x.....o.x.oxo...x..xo.o.x...o...x....xo.xxxxo...x.....o.x...o...x.....o.x..xo.o.x.....o.x...o...x....xo.x.x.o...x.....o.x...o...x.....o.o.xxo...x.o.o.o.x...o...x....xxxxxxx'), ('loop_ZielderHydra', '+..............................................................................................................................................................o...o...o...o...x............o.o.o...o...o...o...-.-.-.-.-.-.-.-.o...............x...............o...............x...............o.:.:.:.:.:.o.:.+...........o...o.:.:.:.:.:.o.:.+...........-...o.:.:.:.:.:.o.:.x.:.:.-.x.....--o.o.o.o.o.o.o.o.o.o.o.o.o.o.o.o.o...........o...x...........o...o...........o...-----...-----...o.o.o.o.o.o.o.o.o.o.o.o.o.o.o.o.o.o.o.o.o.o.o.o.x.x.x.|x|x|x|x|x'), ('loop_UntrustUs', 'o.:.x...o.:.x.:.o.:.x...o.:.x.:.o.:.x...o.:.x.:.o.:.x...o.:.x.:.o.:.x...o.:.x.:.o.:.x...o.:.x.:.o.:.x...o.:.x.:.o.:.x...o.:.x.:.o.:.x...o.:.x.:.o.:.x...o.:.x.:.o.:.x...o.:.x.:.o.:.x...o.:.x.:.o.:.x...o.:.x.:.o.:.x...o.:.x.:.o.:.x...o.:.x.:.o.:.x...o.:.x.:.'), ('loop_AlicePractice', 'o.....:.x.....:.o...o...x...o....:..o...x.......o...o...x.......o.+.x.+.x.+.x..:o...o...x...o.......o...x.......o...o...x.......o.....:.x.....:.o...o...x...o....:..o...x.......o...o...x.......o.+.x.+.x.+.x..:o...o...x...o.......o...x.......o...o...x.......'), ('loop_Crimewave', '|.----------.-:..-----------.-:.:.--.----.--.-:..-----------.-:.|.----------.-:..-----------.-:.:.--.----.--.-:..-------|---.-:.'), ('loop_MagicSpells', 'o.:.x.:.o.:.x.:.o:::x:::o:::x:::o.:.x.:.o.:.x.:.o:-:x:-:o:-:x:-:'), ('loop_XXZXCUZXMe', 'o.:.o.:.o.|.o.:.o...o...o.:+.|||o.:.o.:.o.|.o.:.o...o...o.:+.|||'), ('loop_AirWar', 'o.:.x.:.:...x.||o.:.x.:.:...x.||o.:.x.:.:...x.||o.:.x.:.:...x.||o.:.x.:.o.:.x.||o.:.x.:.o...x.||o.:.x.:.o...x.||o.:.x.:.o...x.||'), ('loop_BrokenMirror', 'o...x..o.oo.x...o...x..o.oo.xo.oo...x..o.oo.x...o...x..o.oo.xo.xo..ox...o.o.xo..o...x..o..o.xo..o..ox..o.oo.x...o..ox..o.oo.xo--'), ('loop_GoldenEyes', 'o.:.:...xoo.:...o...:...xox.:o.oo...:...xoo.:...o...:...xox.:o.oo...:...xox.:...o...:...+.......o...:...xoo.:...o...:...xxo.:o.oo...:...xoo.:...o...:...xoo.:o.oo...:...xoo.:...o...:...xoo.:o.oo...:...xoo.:...o...:...xoo.:o.oo...:...xox.:.:.o.xxo---xxxx-o-o'), ('loop_EerieCanal', '::::x:::::::x:::::::x:::::::x:::::::x:::::::x:::::::x:::::::x:::::::x:::::::x:::::::x:::::::x:::x:::::x:::::x:::x:x:x:x:x:x:x:x:'), ('loop_CarpalTunnelTombTorker', 'x...x.o...o.x.o.x...x.o...o.x.o.x...x.o...o.x.o.x...x.o...o.x.o.x...x.o...o.x.o.x...x.o...o.x.o.x...x.o...o.x.o.x...x.o...o.x.o.x.:.x.o.:.o.x.o.x.:.x.o.:.o.x.o.x.:.x.o.:.o.x.o.x.:.x.o.:.o.x.o.x::+x::+x::+x::+x::+x::+x::+x::+x::+x::+x::+x::+x::+x::+x::+x::+x::+x::+x::+x::+x::+x::+x::+x::+x::+x::+x::+x::+x::+x::+x::+||||'), ('loop_MausoleumDoor', 'o...x......ox..+o.o.x.......x..oo...x......ox..+o.o.x.......x..oo...x......ox..+o.o.x.......x..oo...x......ox..+o.o.x.......x..o'), ('loop_AttentionElectricCyclone', 'o.....x.o.....x.o...o.x...o.o.x.o...o.x.o...o.x.o...o.x.o.x.o.o.o...o.x.o...o.x.o...o.x.o.o.o.x.o...o.x.o.x.o.o.x...x.x.-.-.x.-.o...o.x.o...o.x.o.o...x.o.o.o.x.o...o.x.o...o.x.o...o.x.o.|.|.|.o...o.x.o...o.x.o...o.x.o.o.o.x.o...o.x...x.o.-.x.x.-.-.x.x.-.-.'), ('loop_SideB1', 'o...x.o...o.xo.oo...x.o.o..ox.o.o...x.o...o.xo.oo...x.o.o..ox.o.o...x.o...o.xo.oo...x.o.o..ox.o.o...x.o...o.xo.oo...x.o.o..ox.o.o...x.o...o.xo.oo...x.o.o..ox.o.o...x.o...o.xo.oo...x.o.o..ox.o.o...x.o...o.xo.oo...x.o.o..ox.o.o...x.o...o.xo.oo...x.o.o..ox.o.'), ('loop_MySheeetz', 'o..ox.o.o..ox.o.o..ox.o.o..ox.o.o..ox.o.o..ox.o.o..ox.o.o..ox.o.o..ox.o.o..ox.o.o..ox.o.o..ox.o.o..ox.o.o..ox.o.o..ox.o.o..ox.o.o..ox.o.o..ox.o.o..ox.o.o..ox.o.o..ox.o.o..ox.o.o..ox.o.o..ox.o.o..ox.o.o..ox.o.o..ox.o.o..ox.o.o..ox.o.o..ox.o.o..ox.o.o..ox.o.o..ox.o.o..ox.o.o..ox.o.o..ox.o.o..ox.o.o..ox.o.o..ox.o.o..ox.o.'), ('loop_ThePitPart5', '-------...x....-------...x....ooooxoo...x....oooooox...x....ooooxoo...x....oooooox...x....xxxxxxx...x....xxxxxxx...+....o::.x.o.:::.x.o..:::.x.o.:::.x.o..:::.x.o.:::.x.o..:::.x.o.:::.x.o..:::.x.o.:::.x.o..:::.x.o.:::.x.o..:::.x.o.:::.x.o..:::.x.o..:::.x.o.'), ('loop_CastleOfDrCadaver', 'o...:...x.:.-.:.o...:...x.:.-.:.o...:..ox.:.-.:.o..o:.o.x..x..||o...:...x.:.-.:.o...:...x.:.-.:.o...:...x.:.-.:.o...:...x.o.||||+.......x+..x+..o+..x+..x.:.x+..o+..x+..x+..x+..o...:...x.:.:.::o+..x+..x+..x+..o+..x+..x+..x+..o+..x+..x+..x+..o...:...x.:.:.::'), ('loop_FaireRealm', 'o...x..o..o.x:..o:.:x..o..o.x:..o...x..o..o.x:..oo.:x.:x.xx--xx-o:.:x..o..o.x:..o:.:x..o..o.x:.xo:.:x..o..o.x...o:.:x.xx--x.xx--'), ('loop_Whitewash', 'oo..x.oo....x...oo..x.oo....x...oo..x.oo....x...oo..x.oo....x...oo..x.oo....x...oo..x.oo....x...oo..x.oo....x...oo..x.oo....x...oo..x.oo....x...oo..x.oo....x...oo..x.oo....x...oo..x.oo....x...oo..x.oo....x...oo..x.oo....x...oo..x.oo....x...oo..x.oo....x...'), ('loop_Fembot', 'o.....o.x...o.....o...o.x...o...o.....o.x...o...o.....o...o.o.o.o.....o.x...o.....o...o.x...o...o.....o.x...o...o.....o...-.o.-.o.....o.x...x.....o...o.x...o...o.....o.x...o...o.....o.x.o...-.o.....o.x...o.....o...o.x...o...o.....o.x.o.x...o.....o.........o.....o.x...o.....o...o.x...o...o.....o.x...o...o.....o...o.o.o.o.....o.x...o.....o...o.x...o...o.....o.x...o...o.....o...-.o.-.'), ('Still in the Rain', 'o...x.....o.x...o.:.x.:.:.o.x.-.o.:.x.:.:.o.x...o...x.o...o.x.-.o.:.x.:.:.o.x.:.o.:.x.:.:.o.x.-.o...x.....o.x...o...:.......+...o...x.....o.x...o.:.x.:.:.o.x.-.o.:.x.:.:.o.x...o...x.o...o.x.-.o.-.x.-.:.o.x.:.o.:.x.:.:.o.x.-.o...x.....o.x...o...:.......:...=...........=...................=...........=...............+...o...x.....o.x...o...x.....o.x.-.o...x.....o.x...o...x.o...o.x.-.o...x.....o.x...o...x.....o.x.-.o.||||||||||||||*...*...*...+...'), ('storyofenvy_loop', 'x..:..o..:..x..:.-o.-:.-x..:..o..:..x..-.-..-:.-x..:..o..:..x..:..o.-:.-x..:..o..-.-x..-.-o..-..x..:..o..:..x..:.-o.-:.-x..:..o..:..x..-.-..-:.-x..:..o..:..x..:..o.-:.-x..:..o..-.-x..-.-o..-..x..:..o..:..x..:.-o.-:.-x..:..o..:..x..-.-..-:.-x..:..o..:..x..:..o.-:.-x..:..o..-.-x..-.-o..-..x..:..o..:..x..:.-o.-:.-x..:..o..:..x..-.-..-:.-x..:..o..:..x..:..o.-:.-x..:..o..-.-x..-.-o..-..'), ('loop_ViftaMedHanderna', 'o::.x...o::.x...o::.x...o::.x...o::.x...o::.x...o::.x...o::.x...'), ('loop_WarriorConcerto', 'o.......x.......o.......x...o...........x.......o.:.:.:ox...o...o.......x.......o.......x...o...........x.......o.......x-----..o.......x.......o...x+..x+..x+..........x.......o.:.:.:ox...o...o......ox...............x...o...........x.......o.o...|-|-|-|.-.'), ('Porter Robinson - Unison (Knife Party Remix)_Loop', 'o.......x.:.*...:.*...o.x.o.*...o.......x.......o.:.....x.:.....o.......x.:.*...:.*...o.x.o.*...o...:...*.:...:.+...............o.......+.......o.*...o.x.o.*...o.....*:+.......o.:.....x.:.....o.......+.......o.*...o.x.o.*...o...:...*.:...:.+........|||||||o.......x.:.*...:.*...o.x.o.*...o.......x.......o.:.....x.:.....o.......x.:.*...:.*...o.x.o.*...o...:...*.:...:.+...............o.......+.......o.*...o.x.o.*...o.....*:+.......o.:.....x.:.....o.......+.......o.*...o.x.o.*...o...:...*.:...:.+........|||||||o.......x.:.x+....x+....x.o.*...+.......x.......o.:.....x.:.....o.......x.:.x+....x+....x.o.*...o.o.x+....x+....o.:.:.:.x.+.x.+.o.......+.......o.*...o.x.o.*...o.....*:+...x...o.:.....x.:.....o.......+.......o.*...o.x.o.*...o...:...*.:...:.|||o.|||o.||||||o.......x.:.x+....x+....x.o.*...+.......x.......o.:.....x.:.....o.......x.:.x+....x+....x.o.*...o.o.x+....x+....o.:.:.:.x.+.x.+.o.......+.......o.*...o.x.o.*...o.....*:+...x...o.:.....x.:.....o.......+.......o.*...o.x.o.*...o+..o+....x+..x+................'), ('iotokinasai', 'x...............o.......o.......x.......x.......o.....x.o.o.x...o...........x...o.......o.......x.......x.......o.......o...o...x...............o.......o.......x.......x.......o.....x.o.o.x...o...........x...o.......o.......x.......x.......o.......|-..----o|..x|..o|..x|..o|..x|..o|..x|..o|..x|..o|..x|..o|--------------'), ('GLITTER', 'o...x...o...x...o...x...o...x...o...x...o...x...o...x...o...x...o...x...o...x...o...x...o...x...*.:.*.:.*.:.*.:.*.:.*.:.*.:.*.x.o...x...o...x...o...x...o...x...o...x...o...x...o...x...o...x...o---x...o...x...o---x...o...x...o---x...o...x...o---x...:...::::o...x...o...x...o...x...o...x...o...x...o...x...o...x...o...x...-----...........-----...........-----...........-----:.....-:.--o...x...o...x...o...x...o...x...o...x...o...x...o...x...o...x...~...............~...............~.......~.......~.......o...o...'), ('Do_Or_Die_Flux_Pavilion', '...........;;;;;;;;;;;;;;;x++...........x...:....:...x...:......:...x...:......:...x...:.....:...x...:.:.:.:.:.x.......x.......x.......x.......x++.............x...:.....:...x...:...:...x...:....:...:...x...:....:...:.:.:.:.:.:.:.:.x...........x.x......x......x++...........x...:.....:...x...:.....:...x...:.....:...x...:.....:...x...:......:...x.......x.......x.......x.......x++.............x:::::;::;::::x:::::;::;::::x:::::;::;::::x:::::;::;::::x::::;::;::::x.........'), ('cleverest_loop', 'x...o--.x...o.:.x.:.o...x...o...x...o.-.x...o..:x.:.o.:.x...o...x...o--.x...o.:.x.:.o...x...o...x...o.x..x..o.:x.:x.o.......::::'), ('spectrum_loop', 'x.......x.......x.......x.......x.....-.x.o.-.o.x...:...x.......o...o...x.-...-.o...x...x.-.....x...x...x:-:-:-:x:-:-:-:x.......x.....o.x...o...x.....o.x...o...x.....-.x.o.-.o.x.-.o.-.x.......o...o...x.-...-.o...x...x.-...-.o...:...o...:...o.......x.......x.......x.......x.......x.......x.....-.x.o.-.o.x...:...x.......o...o...x.-...-.o...x...x.-.....x...x...x:-:-:-:x:-:-:-:x.......x.....o.x...o...x.....o.x...o...x.....-.x.o.-.o.x.-.o.-.x.......o...o...x.-...-.o...x...x.-...-.o...:...o...:...o.......x.......'), ('loop_iremember', 'x.......x.-.-.-.o.-.-.-.x.-.....o.......x.-...-.-.o.-.-.-.x.-.-.-.o.......x...:...o.......x.........o...-.-.x.-.-.-.o.......x.......o.......x...-.-.-.o...-.-.x.-.....o.......x.-.-.-.o.-.-.-.x...-.-.-.o.......x...:...o.......x.......o...-.-.x...-.-.-.o.......x...-.-.o.......x.-.-.-.o.-.-.-.x...-.-...o.......x.-.-.-.o.-.-.-.x.-.-.-.o.........x...:...o.......x.......o...-.-.x.-.-.-.o.........x.......'), ('PREPSONG', 'xx.x.xx.o...x...o...x...o...x...o...x...o...x...o...x...o...x...o...x...o...x...o...x...o...x...o...x...o...x...o...x...x...x...xx.x.xx.o...x...o...x...o...x...o...x...o...x...o...x...o...x...o...x...o...x...o...x...o...x...o...x...o...x...o...x...x...x...'), ('rickroll', 'o...x...o...x...o...x...o...x...o...x...o...x...o...x...o...x...o...x...o...x...o...x...o...x...o...x...o...x...o...x...ooooxx-.'), ('PREPSONG_VOX', 'o...x...o...x...o...x...o...x...o...x...o...x...o...x...o...x...o...x...o...x...o...x...o...x...o...x...o...x...x...x...xx.x.xx.o...x...o...x...o...x...o...x...o...x...o...x...o...x...o...x...o...x...o...x...o...x...o...x...o...x...o...x...x...x...xx.x.xx.'), ('loop_hood', 'o...x...o.o.x.o.-...x...o.o.x.o.-...x...o.o.x.o.-...x...o.o.xooo'), ('loop_knishes', 'o.......o.......o.......o.......o.......o...o...o...o...o.......o.......o.......o.......o.......o.......o...o...o...o...o...o...o.......ooooooooooooooooooooooooooooooooooooooooooooooooooooooooooooooooooooooooo.o.o.ooo.o.o.ooo.o.o.ooo.o.o.ooo.o.o.ooo.ooo.o.o.o.o.o.o.o.o.o.o.o.o.o.o.ooo.o.o.o.o.o.o.o.o.o.o.o.o...'), ('sanik_escape', 'o.xo.ox.o.xo.ox.o.xo.ox.o.xo.ox.o.xo.ox.o.xo.ox.o..o..o...x.o.x.'), ('trap', 'x.---.---.-.-...o....o...o...x.o.-..-.-.---.------x....x.....xo....x....o...xx..-..--.----...-.-.-.....x....x........o.x...x..xxo......x....o...x...o...x....o...x...o...x....o...x...o....x-..o--.x...o....o...o...o...o...o....o...o...o....o...o...o...o....o...o...o...o....x-.--...-.---...-....-.-.-.-.-.-.x.o..-.---.-.-.xo--.-.-----.-.-.ox.'), ('rautaketju', 'o---x...o...x...o---x...o...x...o---x...o..x....o...x...o...x...o---x..o....x...o---x...o...x...o---x..o...x....o...x..o...-.--o...x...o...x...o---x...o...x...o---x...o...x....o...x..o....x...o---x..o...x...o.---x..o...x....o---...o...x...o..xoxo.x........'), ('Steamshovel', 'o.-o.o-oo.--oo-oo.-o.o-oo.--xx--o.-o.o-oo.--oo-oo.-o.o-oo.--xx--o.-o.o-oo.--oo-oo.-o.o-oo.--xx--o.-o.o-oo.--oo-oo.-o.o-oo.--xx--o.-o.o-oo.--oo-oo.-o.o-oo.--xx--o.-o.o-oo.--oo-oo.-o.o-oo.--xx--o.-o.o-oo.--oo-oo.-o.o-oo.--xx--o.-o.o-oo.--oo-oo.-o.o-oo.--xx--o.-o.o-oo.-o.o-oo.--oo-oo.-o.o-oo.--xx--o.--xx--o.-o.o-oo.--oo-oo.-o.o-oo.--xx--o.-o.o-oo.--oo-oo.-o.o-oo.--xx--o.-o.o-oo.--oo-oo.-o.o-oo.--xx--o.-o.o-oo.--oo-oo.-o.o-oo.--xx--'), ('Smilecythe - Kuolleiden Ystavaava', 'o.::..:.....:.:.:.x.x.x...x.x...o.::..:.....:.:.:.x.x.x...x.x...o.::..:.....:.:.:.x.x.x...x.x...o.:::.xxxxxxx.x.o.xxx.o.:.:.oxxx'), ('Autechre - C_Pach', '...:.:.x.....:.:.x.....:.:.x.....:.:.x.....:.:.x.....:.:.x.....:.:.x.....:.:.x.....:.:.x.....:.:.x.....:.:.x.....:.:.x..'), ('LxCxDxT_Loop', '.x.......x.......x.......x.......x.......x.......x.......x.......x.......x.......x.......x.......x.......x..:..:.x.......x......'), ('KOANSound_80sFitness', 'o.......x.......o.......x.......o.......x.......o.......x...+...o.......x.......o.......x.......o.......-|-|-|-|o.....-.x...+...o.......x.......o.......x.......o.......x.......o.......x...+...o.......x.......o.......x.......o.-:-:-:-:-:-:-:o.+.....x...o...o.......x.:::.:.o.:...:.x.:.:...o.....:.x.:.:.:.o...:...x.:...:.o.......x.:::.:.o.:...:.x.:.:...o.......-|-|-|-|o.......x...+...o.......x.:::.:.o.:...:.x.:.:...o.....:.x.:.:.:.o...:...x.:...:.o.......x.:::.:.o.:...:.x.:.:...*...:...*...:...*...:...*.......'), ('PorterRobinson_Divinity', 'o...:...x.:.:.o...:.:.:.x.:.:.:.o...:...x.:.:.o...:.:.:.x...::::o...:...x.:.:.o...:.:.:.x.:.:.:.o...o...x...o.o...o.o.:.x.......o...:...x.:.:.o...:.:.:.x.:.:.:.o...:...x.:.:.o...:.:.:.x...::::o...:...x.:.:.o...:.:.:.x.:.:.:.o...:...x.:.:.o...:.:.:.x+......o...:...x.:.:.o...:.:.:.x*-.-*-.o...:...x.:.:.o...:.o.:.x...::::o...:...x.:.:.o...:.:.:.x*-.-*-.o...o...-------------.-.x...-.-.o...:...x.:.:.o...:.:.:.x*-.-*-.o...:...x.:.:.o...:.:.:.x...::::o...:...x.:.:.o...:.:.:.x.:.:.:.o...:.....:.:...---.---.-----+..'), ('PorterRobinson_NaturalLight', 'x.+.o.+.x.+.o.+.x.+.o.+.x.+.o.--x.+.o.+.x.+.o...x.+.o.+.x.....--x:+.o.+.x.+.o.+.x.+.o.+.x.*.*+..x.+.o.+.x.+.o.+.x.+.o...*.-.*.:.x...o.x.o...:...o...x.o.x.:.o.x.o...:...:...o.x.o...:...+.......x.:.o...x.*.*.:.x.:.o.:.x*:ooox.x.:.o...x.*.o.:.x.:.o.:.x.+.....'), ('FurukawaP_GoodMorningEMMASympsonMuuchoRemix', 'x.:.o.x...xxo.:.x.:.o.x...xxoxxxx.:.o.x...xxo.:.x.:.oxxoxxoxxxx.x.:.o.x...xxo.:.x.:.o.x...xxoxxxx.:.o.x...xxo.:.x.:.oxxoxxoxxxx.x.:.o.x...xxo.:.x.:.o.x...xxoxxxx.:.o.x...xxo.:.x.:.oxxoxxoxxxx.x.:.o.x...xxo.:.x.:.o.x...xxoxxxx.:.o.x...xxo.:.+...........o...'), ('150P_Kazehana', 'o.......x.....x.:...:.......x.......x...........x.......x.x.x.x.o.......x.....x.:...:.......x.......x...xxxxxxxxx.:...:.x.x.x.x.o.......x.....x.:...:.......x.......x...........x.......x.x.x.x.o.......x.....x.:...:.......x..x....x.......x.:.x.:.x.:.x.:.x.:.'), ('ACloudForClimbing_Moontied', 'o:::x:::o:::x:::o:::x:::o:::x:::o:::x:::o:::x:::o:::x:::o:::x:::o:::x:::o:::x:::o:::x:::o:::x:::o:::x:::o:::x:::o:::x:::o:::x:::'), ('Nhato_DelayOrder', 'o:::::::::+.....x.......‑...‑...‑...‑...o...‑...x...............o.|.|.|.|.|.|.|.x.|.|.|.|.|.|.o.|.|.o.|.|.o.|.|.x.:.:.x.:.:.x.:.o:::::::::+.....x.....‑‑‑‑‑‑‑‑‑‑‑‑‑‑‑‑‑‑o‑‑‑‑‑‑‑x...............o.|.|.|.|.|.|.|.x.|.|.|.|.|.|.o.|.|.o.|.|.o.|.|.x.:.:.x.:.:.x.:.o000000000+.....x.......‑...‑...‑...‑...o...‑...x...............o.|.|.|.|.|.|.|.x.|.|.|.|.|.|.o.|.|.o.|.|.o.|.|.x.:.:.x.:.:.x.:.o:::::::::+.....x.....‑‑‑‑‑‑‑‑‑‑‑‑‑‑‑‑‑‑o‑‑‑‑‑‑‑x...............o.|.|.|.|.|.|.|.x.|.|.|.|.|.|.o.|.|.o.|.|.o.|.|.x.:.:.x.:.:.x.:.'), ('Camellia_Ring', 'o...::::x...-.-.-.-.-.-.x.o.-+..o.......x.......o:::::oox:o:::::o...::::x...+...o.-.-...x.o.-+..o.......x.||||||o.....oox.o.....'), ('Rin_RigidParadiseJericoRemix', 'o...:...x...:...o...:...x...:...o...:...x...:...o...:...o.o.o.o.o...:...x...:...o...:...x...:...o...:...x...:...o...:.:.+.......o...:...x...:...o...:...x...:...o...:...x...:...o...:...o.o.o.o.o...:...x...:...o...:...x...:...o...oooo+...:...o.-.-.-.+.......'), ('Rin_SpiritOfAvarice', 'o...............x.......+.......o.....o.....o...x...............o...............x...-...-.-.-.-.o.......-...:.:.x.......*..+....o.......x.+.....x.......|.|.|.|.o.....o.....o...x...............o.......-.......x..o..o..o...o..x..o..o..o...o..x|-|-|-|-|-+....'), ('loop_Omen', 'x.x.o...x.o.....x...o...x.o....ox...o...x.o.....x...o.o.x.o.oooox.o.o...x.o.....x...o...x.o....ox...o...x.o.....x...o.o.x.o.xxox.xxxo...x.o.....x...o...x.o....ox...o...x.o.....x...o.o.x.o.oooox.o.o...x.o.....x...o...x.o....ox...o...x.o.....x...o.o.x.o.xxoox...o...x..oxxo.x.o.o...x..oxxo.x.x.o..ox.o....ox...o.o.x.o.----x.-.o...x..oxxo.x.o.o...x..oxxo.x.x.o..ox.o....ox...o..o..o.oooo'), ('loop_FromMyEyes', 'o...x.....o.x...o...x.....o.x...o...x.....o.x...o...x.....o.x...o...x.....o.x...o...x.....o.x...o...x.....o.x...o...x...xxo.x...o...x.....o.x...o...x.....o.x...o...x.....o.x...o...x.....o.x...o...x.....o.x...o...x.....o.x...o...o...o...o...o---o-------x+..'), ('loop_BlackPanther', 'o.:.x.::o.:.x.::o.:.x.::o.:.x.:.o.:.x.::o.:.x.::o.:.x.::o.:.x.:.o.:.x.::o.:.x.::o.:.x.::o.:.x.:.o.:.x.::o.:.x.::o.:.x.::o.:.x.:.'), ('loop_RunAway', 'o...x.o.....x...o...x.....o.x.o.o...x.....o.x...o...x.....o.x...o...x.....o.x...o...x.....o.x.o.o...x.....o.x...o...x.....o.x...o...x.....o.x...o...x.....o.x.o.o...x.....o.x...o...x.....o.x...o...x.o...o.x.....o.x.....o.x.o.o...x.....o.x.....o.x.....o.x.x.'), (\"loop_Chansond'Automne\", 'o.......x.....o.....o...x.......o.....o.x.....o.....o...x.o-----o.o.o.o.x.....o.....o...x.......o.o...oox...o.....xxo...xoo.o.x.'), ('loop_Moan', 'o...o...o...o...o...o...o...o...o...o...o...o...o...o...o...o...o...o...o...o...o...o...o...o...o...o...o...o...o...o...o...o...o...o...o...o...o...o...o...o...o...o...o...o...o......+o.......o...o...o...o...o...o...o...o...o...o...o...o...o...o...o.......'), ('loop_ClearMayhem', 'o...o...o...o...o...o...o...o...+...............o...x...o...o.x.o...x.:.o...x...o...x...o...o.x.o...x.:.o...x.x.o...x...o...o.x.o...x.:.o...x...o...x...o...o.x.o...x.:.o...x.x.o...x...o...o.x.o...x.:.o...x...o...x...o...o.x.o...x.:.o...x.x.o...x...o...o.x.'), ('loop_Duvet', 'o......o.oo.....o......o.oo.....o......o.oo.....x......o.oo.....'), ('loop_MoneyTrees', 'x..o..o.x...o...x..o..o.x...o...x.o.....x...o..ox..o.xo.x...o...x..o..o.x...o...x..o..o.x...o...x.o.....x...o..ox..o.xo.x...o...'), ('loop_Timeless', 'o...x...o...x...o...x...o...x...o...x...o...x...o...x...o...x...o...x...o...x...o...x...o...x...o...x...o...x...o...x...o...xoo.o...x...o...x...o...x...o...x...o...x...o...x...o...x...o...x...o...x...o...x...o...x...o...x...o...x...o...x...o...x...o...x...'), ('loop_Intimate', 'o.:.x.:.o.:.x.:.o.:.x.:.o.:.x.:.o.:.x.:.o.:.x.:.o.:.x.:.o.:.x.:.o.:.x.:.o.:.x.:.o.:.x.:.o.:.x.:.o.:.x.:.o.:.x.:.o.:.x.:.o.:.x.:...:.x.:...:.x.:...:.x.:...:.x.:...:.x.:...:.x.:...:.x.:...:.x.:...:.x.:...:.x.:...:.x.:...:.x.:...:.x.:...:.x.:...:.x.:...:.x.:.'), ('loop_Vibrate(reversed)', 'o..ox.o.o..ox.o.o..oxxo.o..ox.o.o..ox.o.o..ox.o.o..oxxo.o..ox.o.'), ('loop_MissYou', 'o.+.o...o...o...o...o...o...o...o.:.o.:.o...o...o...o...o...o...o...o...o...o...o...o...o...o...o...o...o.+.o...o...........+...o...o...o...o...o...o...o...o...o.-.-.-.........o..o..o...x...o.............+...o...o...o...o...o...o...o...o.o.o.+.............'), ('loop_PropaneNightmares', 'o.x..ox.o.x..ox.o.x..ox.o.x..xx.o.x..ox.o.x..ox.o.x..ox.o.x..xx.o.x..ox.o.x..ox.o.x..ox.o.x..xx.o.x..ox.o.x..ox.o.x..ox..x..x.x.o.x..ox.o.x..ox.o.x..ox.o.x..xx.o.x..ox.o.x..ox.o.x..ox.o.x..xx.o.x..ox.o.x..ox.o.x..ox.o.x..xx.o.x..ox.o.x..ox.o.xxxxxxxxxxxxxxo..ox..oo.oox...o..ox..oo.oox.xxo..ox..oo.oox...o..ox..oo.oox.xxo..ox..oo.oox...o..ox..oo.oox.xxo..ox..oo.oox...o..ox..o.xoox.o.'), ('loop_Sunrise', 'o...x...o...x...o...x...o...x...o...x...o...x...o...x...o...x...o...x...o...x...o...x...o...x...o...x...o...x...o...x...o...x...o...x:::o...x:::o...x:::o...x...o...x...o...x...o...x...o...x...o...x:::o...x:::o...x:::o...x...o...x...o...x...o...x...+.......'), ('loop_MustBeTheFeeling', '.ooooooooooo+.o.xxxxx.xx.xxxxxo..ooooooooooo+.o.xxxxx.xx.xxxxxo..ooooooooooo+.o.xxxxx.xx.xxxxxo..ooooooooooo+.o.:...:...:...:....x.ooooo.ooo+.o.xxxxx.xx.xxxxxo..x.oooo.oooo+.o.xxxxx.xx.xxxxo+..x.ooooo.ooo+.o.xxxxx.xx.xxxxxo..x.oooo.oooo+.o.:...:...:...:......o.oo.oooo+.o.x..xxx..xxx.x.o....o.oo.oooo+.o.xooo.o+..o+........o.oo.oooo+.o.x..xxx..xxx.x.o....o.oo.oooo+.o.:...:...:.......'), ('loop_GoofyGoober', 'o:x:o:x:o:x:o:x:o:x:o:x:o:x:o:+.'), ('loop_ShadowDancing', 'o..+x..+o..+x..+o..+x..+o..+x..+o..+x..+o..+x..+o..+x..+o..+xxxxo..+x..+o..+x..+o..+x..+o..+x..+o..+x..+o..+x..+o..+x..xx.o.o.o.o..+x..+o..+x..+o..+x..+o..+x..+o..+x..+o..+x..+o..+x..xx.o.o.o.o..+x..+o..+x..+o..+x..+o..+x.xxo..+x..+o..+x..+o..+x..+o.o.o.o.'), ('loop_RhinestoneEyes', 'o...x..oo.:.x...o...x..oo.:.x...o...x..oo.:.x...o...x..oo.-.x...'), ('loop_BecomingInsane', 'x.+.x.+.||||o+..o+..o+..o+..o+..o+..o+..o+..o+..o+..o+..o+..o+..o+..o+..o+..o+..o+..o+..o+..o+..o+..o+..o+..o+..o+..o+..o+..o+..o+..o+..o+..o+..o+..o+..o+..o+..o+..o+..o+..o+..o+..o+..o+..o+..o+..o+..o+..o+..o+..o+..o+..o+..o+..o+..o+..o+..o+..o+..o+..x.+.'), ('loop_Bonfire', 'o:::::::x.-.-.-.o...o...x...o...o+......x.-.-.-.o...o...x...+...o+o+o+o+x.-.-.-.o.:.:.:.x...o...o...x.+.x+x+x+x+x+x+x+x+x.+.x.+.'), ('loop_ReturnoftheTres', 'o.....o.:.x.o.:.o.x.:oo.:.x.o.:.o.x.:.o.:.x.o.:.o.x.:oo.:.x.o.:.o.x.:.o.:.x.o.:.o.x.:oo.:.x.o.:.o.x.:.o.:.x.o.:.o.x.:oo.:.x.o...'), ('loop_GardenParty', 'o.::o...o::.o::.o.::o...o::.o::.o.-.o...o::.o:-.o...o...+...x...o.::o...o::.o::.o.::o...o::.o::.o.-.o...o::.o--.x--.x-.x---xo+..o.::x...o::.x::.o.::x...o::.x::.o.-:x...o::.x...o...+...o.x.x...o.::x...o::.x::.o.::x...o::.x::.o.-.x...o::.x::.x...x...+...x...o.::o...o::.o::.o.::o...o::.o::.o.-.o...o::.o::.o--.x-.-o-.-x..-o--.x-.-o--.x-..o:::x---ooooxxxx'), ('loop_PowersofKryptonite', 'o:xo::x.o:xo:ox.o:xo::x:o:xo:ox.o:xo::x.o:xo:ox.o:xo::x:o:xo:ox.o:xo..x.o:xo:ox-------+.........o.xo..x.o.xo.ox.o.xo..x.o.xo.ox.o.xo..x.o.xo.ox.o.xo..x.o.xo.ox.o.xo..x.o.xo.ox.o.xo..x.o.xo.ox.o.xo..x.o.xo.ox.o.xo..x.o.xo.ox.o.xo..x.o.xo.ox.o.xo..x.o.xo.ox.o.xo..x.o.xo.ox.x+.|x+.|x+.x+x--'), ('kottonmouthkings-restofmylife', 'x..o..x......o.x..o.x....xo...o..x.....o..x..ox.....xo..o..x......o.x....x....xo...o..x......o.x..ox.....xo..o...x.....o..x..ox.....xo..o..x......o.x..o.x....xo...o..x......o.x..ox.....xo..o...x....xo.x...ox.xx.x.'), ('juicyj-smokinrollin', 'o..ox..o...oo..xo...o..o.x.o...oo..xo...o..o.x.o...oo..xo...o..o.x.o...oo..xo...'), ('kottonmouthkings-holditin', 'o......x.....ooo.......x.......o......x.....ooo.......x...o...o.......x.....ooo......x.......o.......x.....ooo.......x...o...o......x.....ooo.......x.......o.......x....ooo.......x...o...o.......x.....ooo.......x......o.......x.....ooo-------x---o---'), ('kcamp-goodweedbadbtch', 'o..ox....oo.x...o..ox....oo.x...o..ox.....o.x......ox....oo.x...'), ('kottonmouthkings-4-2-0', 'o...x...o...x.o.o...x...o...x.o.o...x...o...x.o.o...x...o...x.o.o...x...o...x.o.o...x....o...x.o.o..x....o...x.o.o...o...o...x...o...x...o...x.o.o...x...o....x.o.o..x...o...x.o.o....x..o....x.o.o...x...o...x.o.o...x...o....x.o.o..x...o...x.o.o...o...o...o....'), ('becauseigothigh', 'x.....x...oo.....x.....o....x....oo..o..xoo..o.....x...oo.....x.....o....x....oo..o..xoo..o.....x...oo.....x.....o....x....oo..o..xoo..o.....x...oo.....x.....o....x...o.o..o..xoo..x.....x...oo.....x.....o....x...o.o..o..xoo..o.....x...oo.....x.....o....x...o.o..o..xoo..o.....x...oo.....x.....o....x...o.o..o..xoo..o.....x...oo.....x.....o.o..x.ooo.o..o.x.oo..'), ('Smokeweedeveryday', 'o...o...o...o...o...o...o...o...o...o...o...o...o...o...o...o...o...o...o...o...o...o...o...o....................................'), ('Kritikal_GreenPurple', 'o....-....x.....o..o....o..o.....x....-..-.o.....-....x.....o..o....o..o.....x.o........o....-....x.....o..o....o..o.....x.....----.o..........x.......o..o.o..o.....x.o........o....-.....x....o..o....o..o....x.....-..-..o.........x.....o..o....o..o.....x.o........o....-.....x....o..o....o..o.....x.....----.o....-.....x.......o..o.o..o....x..o........'), ('loop_Finale', 'x..xo...x...o...x..xo...x...o...x..xo...x...o...x..xo...x...oxoox..xo...x...o...x..xo...x...o...x..xo...x...o...x...o...x...oooo'), ('loop_Radioactive', 'o...x.o.o...x.o.o...x...o...x.o.o...x.o.o...x.......x.......x...'), ('loop_RowRow', 'o...x...o...x...o...x...o...x...o...x...o...x...o...x...o...xxx.x...x...o...x...o...x...o...x...o...x...o...x...o...o...o...o...'), ('loop_Desire', 'o...x...o.o.x.x...o.x...o.o.x...o...x...o.o.x.x...o.x...oo..x.x.o...x...o.o.x.x...o.x...oo..x.x.o...x...o.o.x.x...o.x...x...x.xx'), ('loop_OutOfSight', 'o.....oox.......o.o....ox.......o.....oox...o...o.o....ox.......o......ox.......o.o....ox.......o.....oox...o...o.o.....+.......'), ('loop_SmileWithoutAFace', 'o......ox.....o.o.......x.......o......ox.....o.o.....o.x.ooooooo......ox.....o.o.......x.......o......ox.....o.o.....o.x.oooooo'), ('loop_CourtshipDate', 'o...x.....o.x...o...x.....o.x...o...x.....o.x...o...x.....o.+...'), ('loop_Vordhosbn', 'o...x..---o.x...-.o.x------.x..-o.-.x.o..-.ox-.-----x-o-------o-o...x..---o.x...-.o.x------.x..-o.-.x.o..-.ox-.-----x-o-------o-o...x..---o.x...-.o.x------.x..-o.-.x.o..-.ox-.-----x-o-------o-o...x..---o.x...-.o.x------.x..-o.-.x.o..-.ox-.-----x-o-------o-o...x..---o.x...-.o.x------.x..-o.-.x.o..-.ox-.-----x-o-------o-o...x..---o.x...-.o.x------.x..-o.-.x.o..-.ox-.-----x-o-------o-'), ('loop_Orange', 'o.o.x..o.x.x....o..ox......x....o...x....o.x....o...x....o.xx...o.o.x..o.x.x....o..ox......x....o...x....o.x...xo...x....o.xx...'), ('loop_Spoiler', 'o+......x+......o+......x+......o+......x+......o+......x+......o+......x+......o+......x+......o+......x+......o+..............o+......x+......o+......x+......o+......x+......o+......x+......o+......x+......o+......x+......o---------------o+......x.......'), ('loop_Kryptonite', 'o.x..ox.o.x..ox.o.x..ox.o.x..ox.o.x..xx.o.x..xx.o.x..xx.o.x..xx.o.x..ox.o.x..ox.o.x..ox.o.x..ox.o.x..xx.o.x..xx.o.xx.xx.o.x..xx.'), ('loop_BeyondRightNow', 'o.......x...o.......o...xxxxx...o.o.....x...o.......o...xxxxx...o.......x...o.......o...xxxxx...o.......x...o...o.......+.......o.......x...o.......o...xxxxx...o.o.....x...o...-.-.o.-.xxx+x+x+o.......x...o.......o...xxxxx...o.......x...o...o...o.o.+.......'), ('loop_HoldMyLiquor', 'o...o...o...o...o...o...o...o...o...o...o...o...o...o...o...o...o...o...o...o...o...o...o...o...o...o...o...o...o...o...o...o...o...o...o...o...o...o...o...o...o...o...o...o...o...o...o...o...o...o...o...o...o...o...o...o...o...o...o...o...............+...'), ('loop_Heart', 'o...x...o...x...o...x...o...x...o...x...o...x...o...x...o...x.-.o...x...o...x...o...x...o...x...o...x...o...x...o...x...o...xx-.'), ('loop_FuturePeople', 'o...x...o...x...o...x...o...x...o...x...o...x...o...x...o...x...o...x...o...x...o...x...o...x...o...x...o...x...o---o---o-------o...x...o...x...o...x...o...x...o...x...o...x...o...x...o...x...o...x...o...x...o...x...o...x...o...x...o...x...:.:.:.:.:.:.:.+.....x+..x+..x+..'), ('loop_Nanox', 'o.....o.x...o.......o...x.......o.....o.x...o.......o...x.......|x|x|x|.x...|x|x|x|xo...x.......|x|x|x|.x...|x|x|x|xo...x.......o.....o.x...o.......o...x.......o.....o.x...o.......o...x.......|x|x|x|.x...|x|x|x|xo...x.......|x|x|x|.x...|x|x|x|xo...x.......'), ('loop_BlackEarth', '--------o.....o.....o...+...............................x.......x.x.x.x.o.....o.....o...+...........................x...x.......--------o.....o.....o...+...............................x.......x.x.x.x.o.....o.....o...+...........................x...x.......'), ('loop_EarlyMorningMay', 'o.......x.......o.......x.....o.o.......o.......o...o...o...o...o.......x.......o.......x.....o.o.......x.......o.......x.....o.'), ('loop_Weapon', 'o.-.x...o...x...o.-.x...o...x...o.-.x...o...x...o.-.x...o...x...o.-.x...o...x...o.-.x...o...x...o..o..o...o...o.............x...'), ('loop_LoveOnHaightStreet', 'o.....x.........o.ox....oo..o...x....o...o..x......o..o..x...o.....o..x....oo..o...x....+...o+..x.+...x..o.ox.....o..o...x.....oo..o..x.....o.o.o..x..oooo......x..o.....o..x.....oo..o..x.....o..oo..x............x.......oo.ox.....oo..o..x.....o...+.........'), ('loop_TheClockmaker', 'o.......-...+...x...-----...-...o..:..:.o....:..x.......o...-...o...........o...x.....x.....x...o...............+...............o.......----o--.x.......-...-...o..:..:.o....:..x.......o.-.-.-.o...........o...x...............o.......o.......x...............:...:...:...:.+.x...-----...-...o..:..:.o....:..x.......o...-...o...........o...x.....x.....x...o...............+...............o...........----x.....-.-...-...o..:..:.o....:..x.......o.-.-.-.o...........o...x...............o.......o.......x.....x.....-...')])\n",
      "dict_items([('Netsky - Puppy (intro)', '..................................................................................................................................................................................................................................................................-..:......:....-...:.......:...-...:.......:...-...:......:...-...:.......:...-....:......:...-....:......:....-...:.......:...'), ('Blake McGrath- Motion Picture (Pegboard Nerds Remix)_Build', '-...-...-...-...-...-...-...-...-...-...-...-...-...-...-...-...-:::-:::-:::-:::-:::-:::-:::-:::---------------------+..........'), ('hues_nieve_intro', '------------------------------+++'), ('Diversa - Crow (VIP)_Build', 'o..x..o.x..o..x.'), ('bignic-help-buildup', '----------------------------------------------------------------------------------------------------------.---.---.---.---.---.---.---.---.---.---.---.---.-.-.-.-.-.-.-.-.-.-.+...'), ('02 Want You Gone', '....o.......x.....x..x.....x........o....ox..........xo....x...x.x..........................+......'), ('02 everything_except', ':...:...:...:...:...:...:...:...:...:...:...:...:...:...:...:...'), ('KOAN Sound & Asa - Starlite (Build-up)', '......:...:...:....:...:...:...:...'), ('build_CaroloftheBells', 'o...:.:.:...x...:.:.:...:...:.:.:...x...:.:.:...:...:.:.:...x...:.:.:...:...:.:.:...+...........'), ('build_jingle', 'o.:.x.o.::..x...o.:.x.o.::..x...o.:.x.o.::..x...o.:.x.o.::..x...'), ('build_deck', '+...'), ('build_SugarPlumFairy', 'o.o.o.......-.-.-.......-.-.-.......x.x.x.x.x.x.o.....o.....o.....o.....o.x.x.x.xxx.x.x.x.|.|.|.'), ('build_OChristmasTree', '....-.......-.......-.....**-.*.....-.......-.......-.....**-.*..'), ('build_Goodbye', 'o...O...O...O...o...O...O...O.:.o...O...O...O...o...O...O...O...o...O...O...O...o...O...O...O.:.‑...‑...‑...‑...+...........x‑‑‑'), ('build_UntrustUs', '|...o...o.:.o.:.o.:.o...o.:.o.:.o.:.o...o.:.o.:...:...:...:...:.'), ('build_AlicePractice', 'o........o..o..x...o.........o..x.......o..o...x........'), ('build_Crimewave', 'o.::x.:.o.::x.::o.::x.:.'), ('build_MagicSpells', '..:...:...:...:...'), ('build_XXZXCUZXMe', '-...||||'), ('build_AirWar', 'o..:.:.:.:...:.||o.:.:.:.:...:.||o.:.:.:.:...:.||o..:.:.:.:..:.||'), ('build_BrokenMirror', '~.......~.......~.......~.......'), ('build_EerieCanal', 'o...o...x.o.....o...o...x.o...o.o...o...x.o...o.x.o...o.x.x.x.x.o...o...x.o...o.o.x.....x.o...o.x.o...o.x.o...o.x...x.x.o.o.x.x.'), ('build_MausoleumDoor', 'o...............o.o........ox...'), ('build_AttentionElectricCyclone', 'o:::::|.x:o:::x.........x.......o:::::|.x:o:::+.................'), ('build_SideB1', '||||o...x.o...o.xo.oo...x.o.o..ox.o.'), ('build_CastleOfDrCadaver', 'o.......x.......o.......x.......o.......x.......o....:...:...+...'), ('build_FaireRealm', 'o***x..o..o.x**.o**ox..o********'), ('build_Fembot', 'o..x...o...o.....o.x.o.x...o.....o.........'), ('Still in the Rain buildup', '........+...............|.+.....'), ('storyofenvy_buildup', '-------------------|||||+.......................'), ('build_ViftaMedHanderna', 'x...............o...o...o.o.xxooo::.x...'), ('build_WarriorConcerto', '----.-.:.-.:.-:.:.-.:.:.-.+.........'), ('Porter Robinson - Unison (Knife Party Remix)_Build', '+...............'), ('tokinasai buildup', '||+.|------------'), ('cleverest_buildup', 'x...x...x...x...x...x...x...x...x...x...x...x...x...x...x...+...'), ('spectrum_buildup', '+.......................o.......'), ('buildup_iremember', '-.-.-.-.-.-.-.-.-.-.-.-.-.-.-.-.-.-.-.-.-.-.-.-.-.-.-.-.-.-.-.-.-.-.-.-.-.-.-.-.-.-.-.-.-.-.-.-.-.-.-.-.-.-.-.-.-.-.-.-.-.-.-.-.-.-.-.-.-.-.-.-.-.-.-.-.-.-.-.-.-.-.-.-.-.-.-.-.-.-.-.-.-.-.-.-.-.-.-.-.-.-.-.-.-.-.-.-.-.-.-.-.-.-.-.-.-.-.-.-.-.-.-.-.-.........-...-.-..'), ('rickroll_buildup', 'o.o.o.o.ooo'), ('sanik_escape_buildup', '...o..o.‑.o.o.o.o..'), ('trap_buildup', '...........o...................................................................'), ('rautaketju_buildup', 'xxxxxxxx'), ('LxCxDxT_Build', '.....................................x.......x.......x.......x.......x.......x.......x.......x.......x.......x.......x.......x...:.:.:.:.:.:.:.:.:.:.x......x.......'), ('KOANSound_80sFitness_build', 'o...o...o...o...o...o...o...o...o...o...o...o...o...o...o...o...o.x.o.x.o.x.o.x.o.x.o.x.o.x.o.x.x...:..:x...:..:x...:..:x...o.+..'), ('PorterRobinson_Divinity_build', 'x...:.....:.:.x...:.:.:...:.:.:.x...:.....:.:.x...:.:.:.....::::x...:.....:.:.x...:.:.:...:.:.:.x...:.....:.:.x...:.:.:.....::::x...:.....:.:.x...:.:.:...:.:.:.x...:.....:.:.x...:.:.:.....::::x...:.....:.:.x...:.:.:...:.:.:.x...:.....:.:.x...:.:.:..........'), ('PorterRobinson_NaturalLight_build', '.x...o...x...o...x...o...x...ox..x...o...x...o...x...-...+.....x-'), ('FurukawaP_GoodMorningEMMASympsonMuuchoRemix_build', 'x.:.-.-...---.:.x.:.-.-...------x.:.-.-...---.:.x.:.-----------.x.:.-.-...---.:.x.:.-.-...------x.:.-.-...---.:.x.:.-----------.'), ('150P_Kazehana_build', 'x...............................................................x.......................................................-.-.-.-.-....................................-.....-...-...-.-.-.-.-.-.-.-.-.-.-.-.-.-.-.-.-.-.-.-.-.-.-.-.-.....................-.-.-.-.-..............................................................'), ('Nhato_DelayOrder_build', '+............................................................................................................................................................................................................................................................................................................................................................'), ('Camellia_Ring_build', 'o...o...o...o...o...o...o...o...o...o...o...o...o...o...o...o...o.o.o.o.o.o.o.o.o.o.o.o.o.o.o.o.o.o.o.o.o.o.o.o.oooooooooo+......'), ('Rin_SpiritOfAvarice_build', 'o...........o...x...............o.....o.....o.....x.............o...........o...x...............o.....o.....o.o...x.............o...........o...x...............:.....o.....o.....x.............o...........o...x................................................'), ('build_Omen', ':.:.:....:.:+...o...x.o.....x...o.o.x.o...x.'), ('build_MissYou', '::::::::::::'), ('build_MustBeTheFeeling', '+...x...'), ('build_GoofyGoober', '-.-..--+.'), ('build_RhinestoneEyes', '...xxxx'), ('build_Bonfire', 'o...x...o.:.x.:.o...x...o.:.x.:.o...x...o.:.x.:.o...x...o.:.x.:.o.xxxx.x.x.x.x.x.o.xxx.x.x.x.x.x.||||||||||||||||+...o...o...+...'), ('build_GardenParty', '+x::::::------||||||x+x+x+x+x+x+x+...'), ('build_PowersofKryptonite', '.:::'), ('build_Desire', 'x.....x.x.x.xxx.'), ('build_SmileWithoutAFace', '..o.....-:x.......o.....-:x.......o.....-:x.......o.....-:x.......o.....-:x.......o.....-:x.x.....'), ('build_Vordhosbn', ':...x..------.......-.-----.+...............x..-.-.--.-.-.-.---.'), ('build_Heart', 'o....'), ('build_Weapon', '----'), ('build_LoveOnHaightStreet', 'x......:......:.....:......:.....:.....:......:.....'), ('build_TheClockmaker', '+....')])\n"
     ]
    }
   ],
   "source": [
    "# Parse and get the rhythm and build up rhythm maps.\n",
    "rhythm_map = defaultdict(str)\n",
    "build_up_rhythm_map = defaultdict(str)\n",
    "\n",
    "for folder in respack_folders:\n",
    "    path_name = './Respacks/' + folder + '/songs.xml'\n",
    "    print(path_name)\n",
    "    if exists(path_name):\n",
    "        song_xml = xml.dom.minidom.parse(path_name)\n",
    "        songs = song_xml.getElementsByTagName('song')\n",
    "        for song in songs:\n",
    "            # parsing rhythms\n",
    "            curr_song_name = song.getAttribute('name')\n",
    "            if len(song.getElementsByTagName('rhythm')) > 0:\n",
    "                rhythm_map[curr_song_name] = song.getElementsByTagName('rhythm')[0].firstChild.nodeValue\n",
    "            if len(song.getElementsByTagName('buildup')) > 0:\n",
    "                build_up_name = song.getElementsByTagName('buildup')[0].firstChild.nodeValue\n",
    "                if len(song.getElementsByTagName('buildupRhythm')) > 0:\n",
    "                    build_up_rhythm_map[build_up_name] = song.getElementsByTagName('buildupRhythm')[0].firstChild.nodeValue\n",
    "            \n",
    "    else:\n",
    "        print('bad path name ' + str(path_name))\n",
    "\n",
    "print(rhythm_map.items())\n",
    "print(build_up_rhythm_map.items())"
   ]
  },
  {
   "cell_type": "code",
   "execution_count": 7,
   "metadata": {},
   "outputs": [
    {
     "name": "stdout",
     "output_type": "stream",
     "text": [
      "./Respacks/IntegralStoryMix/songs.xml\n",
      "parsing ./Respacks/IntegralStoryMix/Songs/Netsky - Puppy (intro).mp3\n"
     ]
    },
    {
     "name": "stderr",
     "output_type": "stream",
     "text": [
      "/Users/frankhu/opt/anaconda3/envs/ai_env/lib/python3.7/site-packages/librosa/core/audio.py:165: UserWarning: PySoundFile failed. Trying audioread instead.\n",
      "  warnings.warn(\"PySoundFile failed. Trying audioread instead.\")\n"
     ]
    },
    {
     "name": "stdout",
     "output_type": "stream",
     "text": [
      "parsing ./Respacks/IntegralStoryMix/Songs/Blake McGrath- Motion Picture (Pegboard Nerds Remix)_Build.mp3\n"
     ]
    },
    {
     "name": "stderr",
     "output_type": "stream",
     "text": [
      "/Users/frankhu/opt/anaconda3/envs/ai_env/lib/python3.7/site-packages/librosa/core/audio.py:165: UserWarning: PySoundFile failed. Trying audioread instead.\n",
      "  warnings.warn(\"PySoundFile failed. Trying audioread instead.\")\n"
     ]
    },
    {
     "name": "stdout",
     "output_type": "stream",
     "text": [
      "parsing ./Respacks/IntegralStoryMix/Songs/lrad.mp3\n"
     ]
    },
    {
     "name": "stderr",
     "output_type": "stream",
     "text": [
      "/Users/frankhu/opt/anaconda3/envs/ai_env/lib/python3.7/site-packages/librosa/core/audio.py:165: UserWarning: PySoundFile failed. Trying audioread instead.\n",
      "  warnings.warn(\"PySoundFile failed. Trying audioread instead.\")\n"
     ]
    },
    {
     "name": "stdout",
     "output_type": "stream",
     "text": [
      "parsing ./Respacks/IntegralStoryMix/Songs/hues_nieve_intro.mp3\n",
      "exception occurred\n",
      "Input signal length=0 is too small to resample from 44100->22050\n",
      "parsing ./Respacks/IntegralStoryMix/Songs/Diversa - Crow (VIP)_Build.mp3\n"
     ]
    },
    {
     "name": "stderr",
     "output_type": "stream",
     "text": [
      "/Users/frankhu/opt/anaconda3/envs/ai_env/lib/python3.7/site-packages/librosa/core/audio.py:165: UserWarning: PySoundFile failed. Trying audioread instead.\n",
      "  warnings.warn(\"PySoundFile failed. Trying audioread instead.\")\n",
      "/Users/frankhu/opt/anaconda3/envs/ai_env/lib/python3.7/site-packages/librosa/core/audio.py:165: UserWarning: PySoundFile failed. Trying audioread instead.\n",
      "  warnings.warn(\"PySoundFile failed. Trying audioread instead.\")\n"
     ]
    },
    {
     "name": "stdout",
     "output_type": "stream",
     "text": [
      "exception occurred\n",
      "Input signal length=0 is too small to resample from 44100->22050\n",
      "parsing ./Respacks/IntegralStoryMix/Songs/bignic-help-buildup.mp3\n"
     ]
    },
    {
     "name": "stderr",
     "output_type": "stream",
     "text": [
      "/Users/frankhu/opt/anaconda3/envs/ai_env/lib/python3.7/site-packages/librosa/core/audio.py:165: UserWarning: PySoundFile failed. Trying audioread instead.\n",
      "  warnings.warn(\"PySoundFile failed. Trying audioread instead.\")\n"
     ]
    },
    {
     "name": "stdout",
     "output_type": "stream",
     "text": [
      "parsing ./Respacks/IntegralStoryMix/Songs/02 Want You Gone.mp3\n",
      "exception occurred\n",
      "Input signal length=0 is too small to resample from 44100->22050\n",
      "parsing ./Respacks/IntegralStoryMix/Songs/02 everything_except.mp3\n"
     ]
    },
    {
     "name": "stderr",
     "output_type": "stream",
     "text": [
      "/Users/frankhu/opt/anaconda3/envs/ai_env/lib/python3.7/site-packages/librosa/core/audio.py:165: UserWarning: PySoundFile failed. Trying audioread instead.\n",
      "  warnings.warn(\"PySoundFile failed. Trying audioread instead.\")\n",
      "/Users/frankhu/opt/anaconda3/envs/ai_env/lib/python3.7/site-packages/librosa/core/audio.py:165: UserWarning: PySoundFile failed. Trying audioread instead.\n",
      "  warnings.warn(\"PySoundFile failed. Trying audioread instead.\")\n"
     ]
    },
    {
     "name": "stdout",
     "output_type": "stream",
     "text": [
      "exception occurred\n",
      "Input signal length=0 is too small to resample from 48000->22050\n",
      "parsing ./Respacks/IntegralStoryMix/Songs/KOAN Sound & Asa - Starlite (Build-up).mp3\n",
      "exception occurred\n",
      "Input signal length=0 is too small to resample from 44100->22050\n",
      "./Respacks/Xmas/songs.xml\n",
      "parsing ./Respacks/Xmas/Songs/loop_EVE.mp3\n"
     ]
    },
    {
     "name": "stderr",
     "output_type": "stream",
     "text": [
      "/Users/frankhu/opt/anaconda3/envs/ai_env/lib/python3.7/site-packages/librosa/core/audio.py:165: UserWarning: PySoundFile failed. Trying audioread instead.\n",
      "  warnings.warn(\"PySoundFile failed. Trying audioread instead.\")\n",
      "/Users/frankhu/opt/anaconda3/envs/ai_env/lib/python3.7/site-packages/librosa/core/audio.py:165: UserWarning: PySoundFile failed. Trying audioread instead.\n",
      "  warnings.warn(\"PySoundFile failed. Trying audioread instead.\")\n"
     ]
    },
    {
     "name": "stdout",
     "output_type": "stream",
     "text": [
      "parsing ./Respacks/Xmas/Songs/build_CaroloftheBells.mp3\n",
      "exception occurred\n",
      "Input signal length=0 is too small to resample from 44100->22050\n",
      "parsing ./Respacks/Xmas/Songs/loop_SleighRide.mp3\n"
     ]
    },
    {
     "name": "stderr",
     "output_type": "stream",
     "text": [
      "/Users/frankhu/opt/anaconda3/envs/ai_env/lib/python3.7/site-packages/librosa/core/audio.py:165: UserWarning: PySoundFile failed. Trying audioread instead.\n",
      "  warnings.warn(\"PySoundFile failed. Trying audioread instead.\")\n",
      "/Users/frankhu/opt/anaconda3/envs/ai_env/lib/python3.7/site-packages/librosa/core/audio.py:165: UserWarning: PySoundFile failed. Trying audioread instead.\n",
      "  warnings.warn(\"PySoundFile failed. Trying audioread instead.\")\n"
     ]
    },
    {
     "name": "stdout",
     "output_type": "stream",
     "text": [
      "parsing ./Respacks/Xmas/Songs/build_jingle.mp3\n",
      "exception occurred\n",
      "Input signal length=0 is too small to resample from 44100->22050\n",
      "parsing ./Respacks/Xmas/Songs/build_deck.mp3\n"
     ]
    },
    {
     "name": "stderr",
     "output_type": "stream",
     "text": [
      "/Users/frankhu/opt/anaconda3/envs/ai_env/lib/python3.7/site-packages/librosa/core/audio.py:165: UserWarning: PySoundFile failed. Trying audioread instead.\n",
      "  warnings.warn(\"PySoundFile failed. Trying audioread instead.\")\n",
      "/Users/frankhu/opt/anaconda3/envs/ai_env/lib/python3.7/site-packages/librosa/core/audio.py:165: UserWarning: PySoundFile failed. Trying audioread instead.\n",
      "  warnings.warn(\"PySoundFile failed. Trying audioread instead.\")\n"
     ]
    },
    {
     "name": "stdout",
     "output_type": "stream",
     "text": [
      "exception occurred\n",
      "Input signal length=0 is too small to resample from 44100->22050\n",
      "parsing ./Respacks/Xmas/Songs/loop_wizardsinwinter.mp3\n"
     ]
    },
    {
     "name": "stderr",
     "output_type": "stream",
     "text": [
      "/Users/frankhu/opt/anaconda3/envs/ai_env/lib/python3.7/site-packages/librosa/core/audio.py:165: UserWarning: PySoundFile failed. Trying audioread instead.\n",
      "  warnings.warn(\"PySoundFile failed. Trying audioread instead.\")\n"
     ]
    },
    {
     "name": "stdout",
     "output_type": "stream",
     "text": [
      "parsing ./Respacks/Xmas/Songs/build_SugarPlumFairy.mp3\n",
      "exception occurred\n",
      "Input signal length=0 is too small to resample from 44100->22050\n",
      "parsing ./Respacks/Xmas/Songs/build_OChristmasTree.mp3\n"
     ]
    },
    {
     "name": "stderr",
     "output_type": "stream",
     "text": [
      "/Users/frankhu/opt/anaconda3/envs/ai_env/lib/python3.7/site-packages/librosa/core/audio.py:165: UserWarning: PySoundFile failed. Trying audioread instead.\n",
      "  warnings.warn(\"PySoundFile failed. Trying audioread instead.\")\n",
      "/Users/frankhu/opt/anaconda3/envs/ai_env/lib/python3.7/site-packages/librosa/core/audio.py:165: UserWarning: PySoundFile failed. Trying audioread instead.\n",
      "  warnings.warn(\"PySoundFile failed. Trying audioread instead.\")\n"
     ]
    },
    {
     "name": "stdout",
     "output_type": "stream",
     "text": [
      "exception occurred\n",
      "Input signal length=0 is too small to resample from 44100->22050\n",
      "parsing ./Respacks/Xmas/Songs/build_Goodbye.mp3\n"
     ]
    },
    {
     "name": "stderr",
     "output_type": "stream",
     "text": [
      "/Users/frankhu/opt/anaconda3/envs/ai_env/lib/python3.7/site-packages/librosa/core/audio.py:165: UserWarning: PySoundFile failed. Trying audioread instead.\n",
      "  warnings.warn(\"PySoundFile failed. Trying audioread instead.\")\n"
     ]
    },
    {
     "name": "stdout",
     "output_type": "stream",
     "text": [
      "./Respacks/HuesMixB/songs.xml\n",
      "parsing ./Respacks/HuesMixB/Songs/loop_ThisCityisKillingMe.mp3\n"
     ]
    },
    {
     "name": "stderr",
     "output_type": "stream",
     "text": [
      "/Users/frankhu/opt/anaconda3/envs/ai_env/lib/python3.7/site-packages/librosa/core/audio.py:165: UserWarning: PySoundFile failed. Trying audioread instead.\n",
      "  warnings.warn(\"PySoundFile failed. Trying audioread instead.\")\n"
     ]
    },
    {
     "name": "stdout",
     "output_type": "stream",
     "text": [
      "parsing ./Respacks/HuesMixB/Songs/loop_Daymanstep.mp3\n"
     ]
    },
    {
     "name": "stderr",
     "output_type": "stream",
     "text": [
      "/Users/frankhu/opt/anaconda3/envs/ai_env/lib/python3.7/site-packages/librosa/core/audio.py:165: UserWarning: PySoundFile failed. Trying audioread instead.\n",
      "  warnings.warn(\"PySoundFile failed. Trying audioread instead.\")\n"
     ]
    },
    {
     "name": "stdout",
     "output_type": "stream",
     "text": [
      "parsing ./Respacks/HuesMixB/Songs/loop_Windowlicker.mp3\n"
     ]
    },
    {
     "name": "stderr",
     "output_type": "stream",
     "text": [
      "/Users/frankhu/opt/anaconda3/envs/ai_env/lib/python3.7/site-packages/librosa/core/audio.py:165: UserWarning: PySoundFile failed. Trying audioread instead.\n",
      "  warnings.warn(\"PySoundFile failed. Trying audioread instead.\")\n"
     ]
    },
    {
     "name": "stdout",
     "output_type": "stream",
     "text": [
      "parsing ./Respacks/HuesMixB/Songs/loop_BlueMazda323.mp3\n"
     ]
    },
    {
     "name": "stderr",
     "output_type": "stream",
     "text": [
      "/Users/frankhu/opt/anaconda3/envs/ai_env/lib/python3.7/site-packages/librosa/core/audio.py:165: UserWarning: PySoundFile failed. Trying audioread instead.\n",
      "  warnings.warn(\"PySoundFile failed. Trying audioread instead.\")\n"
     ]
    },
    {
     "name": "stdout",
     "output_type": "stream",
     "text": [
      "parsing ./Respacks/HuesMixB/Songs/loop_Roses.mp3\n"
     ]
    },
    {
     "name": "stderr",
     "output_type": "stream",
     "text": [
      "/Users/frankhu/opt/anaconda3/envs/ai_env/lib/python3.7/site-packages/librosa/core/audio.py:165: UserWarning: PySoundFile failed. Trying audioread instead.\n",
      "  warnings.warn(\"PySoundFile failed. Trying audioread instead.\")\n"
     ]
    },
    {
     "name": "stdout",
     "output_type": "stream",
     "text": [
      "parsing ./Respacks/HuesMixB/Songs/loop_YumeNikkiMegaMix.mp3\n"
     ]
    },
    {
     "name": "stderr",
     "output_type": "stream",
     "text": [
      "/Users/frankhu/opt/anaconda3/envs/ai_env/lib/python3.7/site-packages/librosa/core/audio.py:165: UserWarning: PySoundFile failed. Trying audioread instead.\n",
      "  warnings.warn(\"PySoundFile failed. Trying audioread instead.\")\n"
     ]
    },
    {
     "name": "stdout",
     "output_type": "stream",
     "text": [
      "parsing ./Respacks/HuesMixB/Songs/loop_ZielderHydra.mp3\n"
     ]
    },
    {
     "name": "stderr",
     "output_type": "stream",
     "text": [
      "/Users/frankhu/opt/anaconda3/envs/ai_env/lib/python3.7/site-packages/librosa/core/audio.py:165: UserWarning: PySoundFile failed. Trying audioread instead.\n",
      "  warnings.warn(\"PySoundFile failed. Trying audioread instead.\")\n"
     ]
    },
    {
     "name": "stdout",
     "output_type": "stream",
     "text": [
      "./Respacks/Royalty/songs.xml\n",
      "parsing ./Respacks/Royalty/Songs/build_UntrustUs.mp3\n",
      "exception occurred\n",
      "Input signal length=0 is too small to resample from 44100->22050\n",
      "parsing ./Respacks/Royalty/Songs/build_AlicePractice.mp3\n"
     ]
    },
    {
     "name": "stderr",
     "output_type": "stream",
     "text": [
      "/Users/frankhu/opt/anaconda3/envs/ai_env/lib/python3.7/site-packages/librosa/core/audio.py:165: UserWarning: PySoundFile failed. Trying audioread instead.\n",
      "  warnings.warn(\"PySoundFile failed. Trying audioread instead.\")\n",
      "/Users/frankhu/opt/anaconda3/envs/ai_env/lib/python3.7/site-packages/librosa/core/audio.py:165: UserWarning: PySoundFile failed. Trying audioread instead.\n",
      "  warnings.warn(\"PySoundFile failed. Trying audioread instead.\")\n"
     ]
    },
    {
     "name": "stdout",
     "output_type": "stream",
     "text": [
      "exception occurred\n",
      "Input signal length=0 is too small to resample from 44100->22050\n",
      "parsing ./Respacks/Royalty/Songs/build_Crimewave.mp3\n",
      "exception occurred\n",
      "Input signal length=0 is too small to resample from 44100->22050\n",
      "parsing ./Respacks/Royalty/Songs/build_MagicSpells.mp3\n"
     ]
    },
    {
     "name": "stderr",
     "output_type": "stream",
     "text": [
      "/Users/frankhu/opt/anaconda3/envs/ai_env/lib/python3.7/site-packages/librosa/core/audio.py:165: UserWarning: PySoundFile failed. Trying audioread instead.\n",
      "  warnings.warn(\"PySoundFile failed. Trying audioread instead.\")\n",
      "/Users/frankhu/opt/anaconda3/envs/ai_env/lib/python3.7/site-packages/librosa/core/audio.py:165: UserWarning: PySoundFile failed. Trying audioread instead.\n",
      "  warnings.warn(\"PySoundFile failed. Trying audioread instead.\")\n"
     ]
    },
    {
     "name": "stdout",
     "output_type": "stream",
     "text": [
      "exception occurred\n",
      "Input signal length=0 is too small to resample from 44100->22050\n",
      "parsing ./Respacks/Royalty/Songs/build_XXZXCUZXMe.mp3\n",
      "exception occurred\n",
      "Input signal length=0 is too small to resample from 44100->22050\n",
      "parsing ./Respacks/Royalty/Songs/build_AirWar.mp3\n"
     ]
    },
    {
     "name": "stderr",
     "output_type": "stream",
     "text": [
      "/Users/frankhu/opt/anaconda3/envs/ai_env/lib/python3.7/site-packages/librosa/core/audio.py:165: UserWarning: PySoundFile failed. Trying audioread instead.\n",
      "  warnings.warn(\"PySoundFile failed. Trying audioread instead.\")\n",
      "/Users/frankhu/opt/anaconda3/envs/ai_env/lib/python3.7/site-packages/librosa/core/audio.py:165: UserWarning: PySoundFile failed. Trying audioread instead.\n",
      "  warnings.warn(\"PySoundFile failed. Trying audioread instead.\")\n"
     ]
    },
    {
     "name": "stdout",
     "output_type": "stream",
     "text": [
      "exception occurred\n",
      "Input signal length=0 is too small to resample from 44100->22050\n",
      "./Respacks/Thistle/songs.xml\n",
      "parsing ./Respacks/Thistle/Songs/build_BrokenMirror.mp3\n",
      "exception occurred\n",
      "Input signal length=0 is too small to resample from 44100->22050\n",
      "parsing ./Respacks/Thistle/Songs/loop_GoldenEyes.mp3\n"
     ]
    },
    {
     "name": "stderr",
     "output_type": "stream",
     "text": [
      "/Users/frankhu/opt/anaconda3/envs/ai_env/lib/python3.7/site-packages/librosa/core/audio.py:165: UserWarning: PySoundFile failed. Trying audioread instead.\n",
      "  warnings.warn(\"PySoundFile failed. Trying audioread instead.\")\n",
      "/Users/frankhu/opt/anaconda3/envs/ai_env/lib/python3.7/site-packages/librosa/core/audio.py:165: UserWarning: PySoundFile failed. Trying audioread instead.\n",
      "  warnings.warn(\"PySoundFile failed. Trying audioread instead.\")\n"
     ]
    },
    {
     "name": "stdout",
     "output_type": "stream",
     "text": [
      "parsing ./Respacks/Thistle/Songs/build_EerieCanal.mp3\n"
     ]
    },
    {
     "name": "stderr",
     "output_type": "stream",
     "text": [
      "/Users/frankhu/opt/anaconda3/envs/ai_env/lib/python3.7/site-packages/librosa/core/audio.py:165: UserWarning: PySoundFile failed. Trying audioread instead.\n",
      "  warnings.warn(\"PySoundFile failed. Trying audioread instead.\")\n"
     ]
    },
    {
     "name": "stdout",
     "output_type": "stream",
     "text": [
      "parsing ./Respacks/Thistle/Songs/loop_CarpalTunnelTombTorker.mp3\n"
     ]
    },
    {
     "name": "stderr",
     "output_type": "stream",
     "text": [
      "/Users/frankhu/opt/anaconda3/envs/ai_env/lib/python3.7/site-packages/librosa/core/audio.py:165: UserWarning: PySoundFile failed. Trying audioread instead.\n",
      "  warnings.warn(\"PySoundFile failed. Trying audioread instead.\")\n"
     ]
    },
    {
     "name": "stdout",
     "output_type": "stream",
     "text": [
      "parsing ./Respacks/Thistle/Songs/build_MausoleumDoor.mp3\n",
      "exception occurred\n",
      "Input signal length=0 is too small to resample from 44100->22050\n",
      "parsing ./Respacks/Thistle/Songs/build_AttentionElectricCyclone.mp3\n"
     ]
    },
    {
     "name": "stderr",
     "output_type": "stream",
     "text": [
      "/Users/frankhu/opt/anaconda3/envs/ai_env/lib/python3.7/site-packages/librosa/core/audio.py:165: UserWarning: PySoundFile failed. Trying audioread instead.\n",
      "  warnings.warn(\"PySoundFile failed. Trying audioread instead.\")\n",
      "/Users/frankhu/opt/anaconda3/envs/ai_env/lib/python3.7/site-packages/librosa/core/audio.py:165: UserWarning: PySoundFile failed. Trying audioread instead.\n",
      "  warnings.warn(\"PySoundFile failed. Trying audioread instead.\")\n"
     ]
    },
    {
     "name": "stdout",
     "output_type": "stream",
     "text": [
      "exception occurred\n",
      "Input signal length=0 is too small to resample from 44100->22050\n",
      "parsing ./Respacks/Thistle/Songs/build_SideB1.mp3\n",
      "exception occurred\n",
      "Input signal length=0 is too small to resample from 44100->22050\n",
      "parsing ./Respacks/Thistle/Songs/loop_MySheeetz.mp3\n"
     ]
    },
    {
     "name": "stderr",
     "output_type": "stream",
     "text": [
      "/Users/frankhu/opt/anaconda3/envs/ai_env/lib/python3.7/site-packages/librosa/core/audio.py:165: UserWarning: PySoundFile failed. Trying audioread instead.\n",
      "  warnings.warn(\"PySoundFile failed. Trying audioread instead.\")\n",
      "/Users/frankhu/opt/anaconda3/envs/ai_env/lib/python3.7/site-packages/librosa/core/audio.py:165: UserWarning: PySoundFile failed. Trying audioread instead.\n",
      "  warnings.warn(\"PySoundFile failed. Trying audioread instead.\")\n"
     ]
    },
    {
     "name": "stdout",
     "output_type": "stream",
     "text": [
      "parsing ./Respacks/Thistle/Songs/loop_ThePitPart5.mp3\n"
     ]
    },
    {
     "name": "stderr",
     "output_type": "stream",
     "text": [
      "/Users/frankhu/opt/anaconda3/envs/ai_env/lib/python3.7/site-packages/librosa/core/audio.py:165: UserWarning: PySoundFile failed. Trying audioread instead.\n",
      "  warnings.warn(\"PySoundFile failed. Trying audioread instead.\")\n"
     ]
    },
    {
     "name": "stdout",
     "output_type": "stream",
     "text": [
      "parsing ./Respacks/Thistle/Songs/build_CastleOfDrCadaver.mp3\n",
      "exception occurred\n",
      "Input signal length=0 is too small to resample from 44100->22050\n",
      "parsing ./Respacks/Thistle/Songs/build_FaireRealm.mp3\n"
     ]
    },
    {
     "name": "stderr",
     "output_type": "stream",
     "text": [
      "/Users/frankhu/opt/anaconda3/envs/ai_env/lib/python3.7/site-packages/librosa/core/audio.py:165: UserWarning: PySoundFile failed. Trying audioread instead.\n",
      "  warnings.warn(\"PySoundFile failed. Trying audioread instead.\")\n",
      "/Users/frankhu/opt/anaconda3/envs/ai_env/lib/python3.7/site-packages/librosa/core/audio.py:165: UserWarning: PySoundFile failed. Trying audioread instead.\n",
      "  warnings.warn(\"PySoundFile failed. Trying audioread instead.\")\n"
     ]
    },
    {
     "name": "stdout",
     "output_type": "stream",
     "text": [
      "exception occurred\n",
      "Input signal length=0 is too small to resample from 44100->22050\n",
      "parsing ./Respacks/Thistle/Songs/loop_Whitewash.mp3\n"
     ]
    },
    {
     "name": "stderr",
     "output_type": "stream",
     "text": [
      "/Users/frankhu/opt/anaconda3/envs/ai_env/lib/python3.7/site-packages/librosa/core/audio.py:165: UserWarning: PySoundFile failed. Trying audioread instead.\n",
      "  warnings.warn(\"PySoundFile failed. Trying audioread instead.\")\n"
     ]
    },
    {
     "name": "stdout",
     "output_type": "stream",
     "text": [
      "parsing ./Respacks/Thistle/Songs/build_Fembot.mp3\n",
      "exception occurred\n",
      "Input signal length=0 is too small to resample from 44100->22050\n",
      "./Respacks/WeekendInsideMix/songs.xml\n",
      "parsing ./Respacks/WeekendInsideMix/Songs/Still in the Rain buildup.mp3\n"
     ]
    },
    {
     "name": "stderr",
     "output_type": "stream",
     "text": [
      "/Users/frankhu/opt/anaconda3/envs/ai_env/lib/python3.7/site-packages/librosa/core/audio.py:165: UserWarning: PySoundFile failed. Trying audioread instead.\n",
      "  warnings.warn(\"PySoundFile failed. Trying audioread instead.\")\n",
      "/Users/frankhu/opt/anaconda3/envs/ai_env/lib/python3.7/site-packages/librosa/core/audio.py:165: UserWarning: PySoundFile failed. Trying audioread instead.\n",
      "  warnings.warn(\"PySoundFile failed. Trying audioread instead.\")\n"
     ]
    },
    {
     "name": "stdout",
     "output_type": "stream",
     "text": [
      "exception occurred\n",
      "Input signal length=0 is too small to resample from 44100->22050\n",
      "parsing ./Respacks/WeekendInsideMix/Songs/storyofenvy_buildup.mp3\n",
      "exception occurred\n",
      "Input signal length=0 is too small to resample from 44100->22050\n",
      "parsing ./Respacks/WeekendInsideMix/Songs/build_ViftaMedHanderna.mp3\n"
     ]
    },
    {
     "name": "stderr",
     "output_type": "stream",
     "text": [
      "/Users/frankhu/opt/anaconda3/envs/ai_env/lib/python3.7/site-packages/librosa/core/audio.py:165: UserWarning: PySoundFile failed. Trying audioread instead.\n",
      "  warnings.warn(\"PySoundFile failed. Trying audioread instead.\")\n",
      "/Users/frankhu/opt/anaconda3/envs/ai_env/lib/python3.7/site-packages/librosa/core/audio.py:165: UserWarning: PySoundFile failed. Trying audioread instead.\n",
      "  warnings.warn(\"PySoundFile failed. Trying audioread instead.\")\n"
     ]
    },
    {
     "name": "stdout",
     "output_type": "stream",
     "text": [
      "exception occurred\n",
      "Input signal length=0 is too small to resample from 44100->22050\n",
      "parsing ./Respacks/WeekendInsideMix/Songs/build_WarriorConcerto.mp3\n",
      "exception occurred\n",
      "Input signal length=0 is too small to resample from 44100->22050\n",
      "parsing ./Respacks/WeekendInsideMix/Songs/Porter Robinson - Unison (Knife Party Remix)_Build.mp3\n"
     ]
    },
    {
     "name": "stderr",
     "output_type": "stream",
     "text": [
      "/Users/frankhu/opt/anaconda3/envs/ai_env/lib/python3.7/site-packages/librosa/core/audio.py:165: UserWarning: PySoundFile failed. Trying audioread instead.\n",
      "  warnings.warn(\"PySoundFile failed. Trying audioread instead.\")\n",
      "/Users/frankhu/opt/anaconda3/envs/ai_env/lib/python3.7/site-packages/librosa/core/audio.py:165: UserWarning: PySoundFile failed. Trying audioread instead.\n",
      "  warnings.warn(\"PySoundFile failed. Trying audioread instead.\")\n"
     ]
    },
    {
     "name": "stdout",
     "output_type": "stream",
     "text": [
      "exception occurred\n",
      "Input signal length=0 is too small to resample from 44100->22050\n",
      "parsing ./Respacks/WeekendInsideMix/Songs/tokinasai buildup.mp3\n",
      "exception occurred\n",
      "Input signal length=0 is too small to resample from 44100->22050\n",
      "parsing ./Respacks/WeekendInsideMix/Songs/GLITTER.mp3\n"
     ]
    },
    {
     "name": "stderr",
     "output_type": "stream",
     "text": [
      "/Users/frankhu/opt/anaconda3/envs/ai_env/lib/python3.7/site-packages/librosa/core/audio.py:165: UserWarning: PySoundFile failed. Trying audioread instead.\n",
      "  warnings.warn(\"PySoundFile failed. Trying audioread instead.\")\n",
      "/Users/frankhu/opt/anaconda3/envs/ai_env/lib/python3.7/site-packages/librosa/core/audio.py:165: UserWarning: PySoundFile failed. Trying audioread instead.\n",
      "  warnings.warn(\"PySoundFile failed. Trying audioread instead.\")\n"
     ]
    },
    {
     "name": "stdout",
     "output_type": "stream",
     "text": [
      "parsing ./Respacks/WeekendInsideMix/Songs/Do_Or_Die_Flux_Pavilion.mp3\n"
     ]
    },
    {
     "name": "stderr",
     "output_type": "stream",
     "text": [
      "/Users/frankhu/opt/anaconda3/envs/ai_env/lib/python3.7/site-packages/librosa/core/audio.py:165: UserWarning: PySoundFile failed. Trying audioread instead.\n",
      "  warnings.warn(\"PySoundFile failed. Trying audioread instead.\")\n"
     ]
    },
    {
     "name": "stdout",
     "output_type": "stream",
     "text": [
      "parsing ./Respacks/WeekendInsideMix/Songs/cleverest_buildup.mp3\n",
      "exception occurred\n",
      "Input signal length=0 is too small to resample from 44100->22050\n",
      "parsing ./Respacks/WeekendInsideMix/Songs/spectrum_buildup.mp3\n"
     ]
    },
    {
     "name": "stderr",
     "output_type": "stream",
     "text": [
      "/Users/frankhu/opt/anaconda3/envs/ai_env/lib/python3.7/site-packages/librosa/core/audio.py:165: UserWarning: PySoundFile failed. Trying audioread instead.\n",
      "  warnings.warn(\"PySoundFile failed. Trying audioread instead.\")\n",
      "/Users/frankhu/opt/anaconda3/envs/ai_env/lib/python3.7/site-packages/librosa/core/audio.py:165: UserWarning: PySoundFile failed. Trying audioread instead.\n",
      "  warnings.warn(\"PySoundFile failed. Trying audioread instead.\")\n"
     ]
    },
    {
     "name": "stdout",
     "output_type": "stream",
     "text": [
      "exception occurred\n",
      "Input signal length=0 is too small to resample from 44100->22050\n",
      "parsing ./Respacks/WeekendInsideMix/Songs/buildup_iremember.mp3\n"
     ]
    },
    {
     "name": "stderr",
     "output_type": "stream",
     "text": [
      "/Users/frankhu/opt/anaconda3/envs/ai_env/lib/python3.7/site-packages/librosa/core/audio.py:165: UserWarning: PySoundFile failed. Trying audioread instead.\n",
      "  warnings.warn(\"PySoundFile failed. Trying audioread instead.\")\n"
     ]
    },
    {
     "name": "stdout",
     "output_type": "stream",
     "text": [
      "./Respacks/AprilHues/songs.xml\n",
      "parsing ./Respacks/AprilHues/Songs/PREPSONG.mp3\n"
     ]
    },
    {
     "name": "stderr",
     "output_type": "stream",
     "text": [
      "/Users/frankhu/opt/anaconda3/envs/ai_env/lib/python3.7/site-packages/librosa/core/audio.py:165: UserWarning: PySoundFile failed. Trying audioread instead.\n",
      "  warnings.warn(\"PySoundFile failed. Trying audioread instead.\")\n"
     ]
    },
    {
     "name": "stdout",
     "output_type": "stream",
     "text": [
      "parsing ./Respacks/AprilHues/Songs/rickroll_buildup.mp3\n",
      "exception occurred\n",
      "Input signal length=0 is too small to resample from 32000->22050\n",
      "parsing ./Respacks/AprilHues/Songs/PREPSONG_VOX.mp3\n"
     ]
    },
    {
     "name": "stderr",
     "output_type": "stream",
     "text": [
      "/Users/frankhu/opt/anaconda3/envs/ai_env/lib/python3.7/site-packages/librosa/core/audio.py:165: UserWarning: PySoundFile failed. Trying audioread instead.\n",
      "  warnings.warn(\"PySoundFile failed. Trying audioread instead.\")\n",
      "/Users/frankhu/opt/anaconda3/envs/ai_env/lib/python3.7/site-packages/librosa/core/audio.py:165: UserWarning: PySoundFile failed. Trying audioread instead.\n",
      "  warnings.warn(\"PySoundFile failed. Trying audioread instead.\")\n"
     ]
    },
    {
     "name": "stdout",
     "output_type": "stream",
     "text": [
      "parsing ./Respacks/AprilHues/Songs/loop_hood.mp3\n"
     ]
    },
    {
     "name": "stderr",
     "output_type": "stream",
     "text": [
      "/Users/frankhu/opt/anaconda3/envs/ai_env/lib/python3.7/site-packages/librosa/core/audio.py:165: UserWarning: PySoundFile failed. Trying audioread instead.\n",
      "  warnings.warn(\"PySoundFile failed. Trying audioread instead.\")\n"
     ]
    },
    {
     "name": "stdout",
     "output_type": "stream",
     "text": [
      "parsing ./Respacks/AprilHues/Songs/loop_knishes.mp3\n"
     ]
    },
    {
     "name": "stderr",
     "output_type": "stream",
     "text": [
      "/Users/frankhu/opt/anaconda3/envs/ai_env/lib/python3.7/site-packages/librosa/core/audio.py:165: UserWarning: PySoundFile failed. Trying audioread instead.\n",
      "  warnings.warn(\"PySoundFile failed. Trying audioread instead.\")\n"
     ]
    },
    {
     "name": "stdout",
     "output_type": "stream",
     "text": [
      "parsing ./Respacks/AprilHues/Songs/sanik_escape_buildup.mp3\n",
      "exception occurred\n",
      "Input signal length=0 is too small to resample from 32000->22050\n",
      "parsing ./Respacks/AprilHues/Songs/trap_buildup.mp3\n"
     ]
    },
    {
     "name": "stderr",
     "output_type": "stream",
     "text": [
      "/Users/frankhu/opt/anaconda3/envs/ai_env/lib/python3.7/site-packages/librosa/core/audio.py:165: UserWarning: PySoundFile failed. Trying audioread instead.\n",
      "  warnings.warn(\"PySoundFile failed. Trying audioread instead.\")\n",
      "/Users/frankhu/opt/anaconda3/envs/ai_env/lib/python3.7/site-packages/librosa/core/audio.py:165: UserWarning: PySoundFile failed. Trying audioread instead.\n",
      "  warnings.warn(\"PySoundFile failed. Trying audioread instead.\")\n"
     ]
    },
    {
     "name": "stdout",
     "output_type": "stream",
     "text": [
      "exception occurred\n",
      "Input signal length=0 is too small to resample from 32000->22050\n",
      "parsing ./Respacks/AprilHues/Songs/rautaketju_buildup.mp3\n",
      "exception occurred\n",
      "Input signal length=0 is too small to resample from 32000->22050\n",
      "parsing ./Respacks/AprilHues/Songs/Steamshovel.mp3\n"
     ]
    },
    {
     "name": "stderr",
     "output_type": "stream",
     "text": [
      "/Users/frankhu/opt/anaconda3/envs/ai_env/lib/python3.7/site-packages/librosa/core/audio.py:165: UserWarning: PySoundFile failed. Trying audioread instead.\n",
      "  warnings.warn(\"PySoundFile failed. Trying audioread instead.\")\n",
      "/Users/frankhu/opt/anaconda3/envs/ai_env/lib/python3.7/site-packages/librosa/core/audio.py:165: UserWarning: PySoundFile failed. Trying audioread instead.\n",
      "  warnings.warn(\"PySoundFile failed. Trying audioread instead.\")\n"
     ]
    },
    {
     "name": "stdout",
     "output_type": "stream",
     "text": [
      "./Respacks/ShuttersPack/songs.xml\n",
      "parsing ./Respacks/ShuttersPack/Songs/Smilecythe - Kuolleiden Ystavaava.mp3\n"
     ]
    },
    {
     "name": "stderr",
     "output_type": "stream",
     "text": [
      "/Users/frankhu/opt/anaconda3/envs/ai_env/lib/python3.7/site-packages/librosa/core/audio.py:165: UserWarning: PySoundFile failed. Trying audioread instead.\n",
      "  warnings.warn(\"PySoundFile failed. Trying audioread instead.\")\n"
     ]
    },
    {
     "name": "stdout",
     "output_type": "stream",
     "text": [
      "parsing ./Respacks/ShuttersPack/Songs/Autechre - C_Pach.mp3\n"
     ]
    },
    {
     "name": "stderr",
     "output_type": "stream",
     "text": [
      "/Users/frankhu/opt/anaconda3/envs/ai_env/lib/python3.7/site-packages/librosa/core/audio.py:165: UserWarning: PySoundFile failed. Trying audioread instead.\n",
      "  warnings.warn(\"PySoundFile failed. Trying audioread instead.\")\n"
     ]
    },
    {
     "name": "stdout",
     "output_type": "stream",
     "text": [
      "parsing ./Respacks/ShuttersPack/Songs/LxCxDxT_Build.mp3\n",
      "exception occurred\n",
      "Input signal length=0 is too small to resample from 44100->22050\n",
      "./Respacks/Tylup's pack/songs.xml\n",
      "parsing ./Respacks/Tylup's pack/Songs/KOANSound_80sFitness_build.mp3\n"
     ]
    },
    {
     "name": "stderr",
     "output_type": "stream",
     "text": [
      "/Users/frankhu/opt/anaconda3/envs/ai_env/lib/python3.7/site-packages/librosa/core/audio.py:165: UserWarning: PySoundFile failed. Trying audioread instead.\n",
      "  warnings.warn(\"PySoundFile failed. Trying audioread instead.\")\n",
      "/Users/frankhu/opt/anaconda3/envs/ai_env/lib/python3.7/site-packages/librosa/core/audio.py:165: UserWarning: PySoundFile failed. Trying audioread instead.\n",
      "  warnings.warn(\"PySoundFile failed. Trying audioread instead.\")\n"
     ]
    },
    {
     "name": "stdout",
     "output_type": "stream",
     "text": [
      "exception occurred\n",
      "Input signal length=0 is too small to resample from 44100->22050\n",
      "parsing ./Respacks/Tylup's pack/Songs/PorterRobinson_Divinity_build.mp3\n"
     ]
    },
    {
     "name": "stderr",
     "output_type": "stream",
     "text": [
      "/Users/frankhu/opt/anaconda3/envs/ai_env/lib/python3.7/site-packages/librosa/core/audio.py:165: UserWarning: PySoundFile failed. Trying audioread instead.\n",
      "  warnings.warn(\"PySoundFile failed. Trying audioread instead.\")\n"
     ]
    },
    {
     "name": "stdout",
     "output_type": "stream",
     "text": [
      "parsing ./Respacks/Tylup's pack/Songs/PorterRobinson_NaturalLight_build.mp3\n"
     ]
    },
    {
     "name": "stderr",
     "output_type": "stream",
     "text": [
      "/Users/frankhu/opt/anaconda3/envs/ai_env/lib/python3.7/site-packages/librosa/core/audio.py:165: UserWarning: PySoundFile failed. Trying audioread instead.\n",
      "  warnings.warn(\"PySoundFile failed. Trying audioread instead.\")\n"
     ]
    },
    {
     "name": "stdout",
     "output_type": "stream",
     "text": [
      "parsing ./Respacks/Tylup's pack/Songs/FurukawaP_GoodMorningEMMASympsonMuuchoRemix_build.mp3\n"
     ]
    },
    {
     "name": "stderr",
     "output_type": "stream",
     "text": [
      "/Users/frankhu/opt/anaconda3/envs/ai_env/lib/python3.7/site-packages/librosa/core/audio.py:165: UserWarning: PySoundFile failed. Trying audioread instead.\n",
      "  warnings.warn(\"PySoundFile failed. Trying audioread instead.\")\n"
     ]
    },
    {
     "name": "stdout",
     "output_type": "stream",
     "text": [
      "parsing ./Respacks/Tylup's pack/Songs/150P_Kazehana_build.mp3\n"
     ]
    },
    {
     "name": "stderr",
     "output_type": "stream",
     "text": [
      "/Users/frankhu/opt/anaconda3/envs/ai_env/lib/python3.7/site-packages/librosa/core/audio.py:165: UserWarning: PySoundFile failed. Trying audioread instead.\n",
      "  warnings.warn(\"PySoundFile failed. Trying audioread instead.\")\n"
     ]
    },
    {
     "name": "stdout",
     "output_type": "stream",
     "text": [
      "parsing ./Respacks/Tylup's pack/Songs/ACloudForClimbing_Moontied.mp3\n"
     ]
    },
    {
     "name": "stderr",
     "output_type": "stream",
     "text": [
      "/Users/frankhu/opt/anaconda3/envs/ai_env/lib/python3.7/site-packages/librosa/core/audio.py:165: UserWarning: PySoundFile failed. Trying audioread instead.\n",
      "  warnings.warn(\"PySoundFile failed. Trying audioread instead.\")\n"
     ]
    },
    {
     "name": "stdout",
     "output_type": "stream",
     "text": [
      "parsing ./Respacks/Tylup's pack/Songs/Nhato_DelayOrder_build.mp3\n"
     ]
    },
    {
     "name": "stderr",
     "output_type": "stream",
     "text": [
      "/Users/frankhu/opt/anaconda3/envs/ai_env/lib/python3.7/site-packages/librosa/core/audio.py:165: UserWarning: PySoundFile failed. Trying audioread instead.\n",
      "  warnings.warn(\"PySoundFile failed. Trying audioread instead.\")\n"
     ]
    },
    {
     "name": "stdout",
     "output_type": "stream",
     "text": [
      "parsing ./Respacks/Tylup's pack/Songs/Camellia_Ring_build.mp3\n"
     ]
    },
    {
     "name": "stderr",
     "output_type": "stream",
     "text": [
      "/Users/frankhu/opt/anaconda3/envs/ai_env/lib/python3.7/site-packages/librosa/core/audio.py:165: UserWarning: PySoundFile failed. Trying audioread instead.\n",
      "  warnings.warn(\"PySoundFile failed. Trying audioread instead.\")\n"
     ]
    },
    {
     "name": "stdout",
     "output_type": "stream",
     "text": [
      "parsing ./Respacks/Tylup's pack/Songs/Rin_RigidParadiseJericoRemix.mp3\n"
     ]
    },
    {
     "name": "stderr",
     "output_type": "stream",
     "text": [
      "/Users/frankhu/opt/anaconda3/envs/ai_env/lib/python3.7/site-packages/librosa/core/audio.py:165: UserWarning: PySoundFile failed. Trying audioread instead.\n",
      "  warnings.warn(\"PySoundFile failed. Trying audioread instead.\")\n"
     ]
    },
    {
     "name": "stdout",
     "output_type": "stream",
     "text": [
      "parsing ./Respacks/Tylup's pack/Songs/Rin_SpiritOfAvarice_build.mp3\n"
     ]
    },
    {
     "name": "stderr",
     "output_type": "stream",
     "text": [
      "/Users/frankhu/opt/anaconda3/envs/ai_env/lib/python3.7/site-packages/librosa/core/audio.py:165: UserWarning: PySoundFile failed. Trying audioread instead.\n",
      "  warnings.warn(\"PySoundFile failed. Trying audioread instead.\")\n"
     ]
    },
    {
     "name": "stdout",
     "output_type": "stream",
     "text": [
      "./Respacks/HuesMixA/songs.xml\n",
      "parsing ./Respacks/HuesMixA/Songs/build_Omen.mp3\n",
      "exception occurred\n",
      "Input signal length=0 is too small to resample from 44100->22050\n",
      "parsing ./Respacks/HuesMixA/Songs/loop_FromMyEyes.mp3\n"
     ]
    },
    {
     "name": "stderr",
     "output_type": "stream",
     "text": [
      "/Users/frankhu/opt/anaconda3/envs/ai_env/lib/python3.7/site-packages/librosa/core/audio.py:165: UserWarning: PySoundFile failed. Trying audioread instead.\n",
      "  warnings.warn(\"PySoundFile failed. Trying audioread instead.\")\n",
      "/Users/frankhu/opt/anaconda3/envs/ai_env/lib/python3.7/site-packages/librosa/core/audio.py:165: UserWarning: PySoundFile failed. Trying audioread instead.\n",
      "  warnings.warn(\"PySoundFile failed. Trying audioread instead.\")\n"
     ]
    },
    {
     "name": "stdout",
     "output_type": "stream",
     "text": [
      "parsing ./Respacks/HuesMixA/Songs/loop_BlackPanther.mp3\n"
     ]
    },
    {
     "name": "stderr",
     "output_type": "stream",
     "text": [
      "/Users/frankhu/opt/anaconda3/envs/ai_env/lib/python3.7/site-packages/librosa/core/audio.py:165: UserWarning: PySoundFile failed. Trying audioread instead.\n",
      "  warnings.warn(\"PySoundFile failed. Trying audioread instead.\")\n"
     ]
    },
    {
     "name": "stdout",
     "output_type": "stream",
     "text": [
      "parsing ./Respacks/HuesMixA/Songs/loop_RunAway.mp3\n"
     ]
    },
    {
     "name": "stderr",
     "output_type": "stream",
     "text": [
      "/Users/frankhu/opt/anaconda3/envs/ai_env/lib/python3.7/site-packages/librosa/core/audio.py:165: UserWarning: PySoundFile failed. Trying audioread instead.\n",
      "  warnings.warn(\"PySoundFile failed. Trying audioread instead.\")\n"
     ]
    },
    {
     "name": "stdout",
     "output_type": "stream",
     "text": [
      "parsing ./Respacks/HuesMixA/Songs/loop_Chansond'Automne.mp3\n"
     ]
    },
    {
     "name": "stderr",
     "output_type": "stream",
     "text": [
      "/Users/frankhu/opt/anaconda3/envs/ai_env/lib/python3.7/site-packages/librosa/core/audio.py:165: UserWarning: PySoundFile failed. Trying audioread instead.\n",
      "  warnings.warn(\"PySoundFile failed. Trying audioread instead.\")\n"
     ]
    },
    {
     "name": "stdout",
     "output_type": "stream",
     "text": [
      "parsing ./Respacks/HuesMixA/Songs/loop_Moan.mp3\n"
     ]
    },
    {
     "name": "stderr",
     "output_type": "stream",
     "text": [
      "/Users/frankhu/opt/anaconda3/envs/ai_env/lib/python3.7/site-packages/librosa/core/audio.py:165: UserWarning: PySoundFile failed. Trying audioread instead.\n",
      "  warnings.warn(\"PySoundFile failed. Trying audioread instead.\")\n"
     ]
    },
    {
     "name": "stdout",
     "output_type": "stream",
     "text": [
      "parsing ./Respacks/HuesMixA/Songs/loop_ClearMayhem.mp3\n"
     ]
    },
    {
     "name": "stderr",
     "output_type": "stream",
     "text": [
      "/Users/frankhu/opt/anaconda3/envs/ai_env/lib/python3.7/site-packages/librosa/core/audio.py:165: UserWarning: PySoundFile failed. Trying audioread instead.\n",
      "  warnings.warn(\"PySoundFile failed. Trying audioread instead.\")\n"
     ]
    },
    {
     "name": "stdout",
     "output_type": "stream",
     "text": [
      "parsing ./Respacks/HuesMixA/Songs/loop_Duvet.mp3\n"
     ]
    },
    {
     "name": "stderr",
     "output_type": "stream",
     "text": [
      "/Users/frankhu/opt/anaconda3/envs/ai_env/lib/python3.7/site-packages/librosa/core/audio.py:165: UserWarning: PySoundFile failed. Trying audioread instead.\n",
      "  warnings.warn(\"PySoundFile failed. Trying audioread instead.\")\n"
     ]
    },
    {
     "name": "stdout",
     "output_type": "stream",
     "text": [
      "parsing ./Respacks/HuesMixA/Songs/loop_MoneyTrees.mp3\n"
     ]
    },
    {
     "name": "stderr",
     "output_type": "stream",
     "text": [
      "/Users/frankhu/opt/anaconda3/envs/ai_env/lib/python3.7/site-packages/librosa/core/audio.py:165: UserWarning: PySoundFile failed. Trying audioread instead.\n",
      "  warnings.warn(\"PySoundFile failed. Trying audioread instead.\")\n"
     ]
    },
    {
     "name": "stdout",
     "output_type": "stream",
     "text": [
      "parsing ./Respacks/HuesMixA/Songs/loop_Timeless.mp3\n"
     ]
    },
    {
     "name": "stderr",
     "output_type": "stream",
     "text": [
      "/Users/frankhu/opt/anaconda3/envs/ai_env/lib/python3.7/site-packages/librosa/core/audio.py:165: UserWarning: PySoundFile failed. Trying audioread instead.\n",
      "  warnings.warn(\"PySoundFile failed. Trying audioread instead.\")\n"
     ]
    },
    {
     "name": "stdout",
     "output_type": "stream",
     "text": [
      "parsing ./Respacks/HuesMixA/Songs/loop_Intimate.mp3\n"
     ]
    },
    {
     "name": "stderr",
     "output_type": "stream",
     "text": [
      "/Users/frankhu/opt/anaconda3/envs/ai_env/lib/python3.7/site-packages/librosa/core/audio.py:165: UserWarning: PySoundFile failed. Trying audioread instead.\n",
      "  warnings.warn(\"PySoundFile failed. Trying audioread instead.\")\n"
     ]
    },
    {
     "name": "stdout",
     "output_type": "stream",
     "text": [
      "parsing ./Respacks/HuesMixA/Songs/loop_Vibrate(reversed).mp3\n"
     ]
    },
    {
     "name": "stderr",
     "output_type": "stream",
     "text": [
      "/Users/frankhu/opt/anaconda3/envs/ai_env/lib/python3.7/site-packages/librosa/core/audio.py:165: UserWarning: PySoundFile failed. Trying audioread instead.\n",
      "  warnings.warn(\"PySoundFile failed. Trying audioread instead.\")\n"
     ]
    },
    {
     "name": "stdout",
     "output_type": "stream",
     "text": [
      "parsing ./Respacks/HuesMixA/Songs/build_MissYou.mp3\n",
      "exception occurred\n",
      "Input signal length=0 is too small to resample from 44100->22050\n",
      "parsing ./Respacks/HuesMixA/Songs/loop_PropaneNightmares.mp3\n"
     ]
    },
    {
     "name": "stderr",
     "output_type": "stream",
     "text": [
      "/Users/frankhu/opt/anaconda3/envs/ai_env/lib/python3.7/site-packages/librosa/core/audio.py:165: UserWarning: PySoundFile failed. Trying audioread instead.\n",
      "  warnings.warn(\"PySoundFile failed. Trying audioread instead.\")\n",
      "/Users/frankhu/opt/anaconda3/envs/ai_env/lib/python3.7/site-packages/librosa/core/audio.py:165: UserWarning: PySoundFile failed. Trying audioread instead.\n",
      "  warnings.warn(\"PySoundFile failed. Trying audioread instead.\")\n"
     ]
    },
    {
     "name": "stdout",
     "output_type": "stream",
     "text": [
      "./Respacks/PackShit/songs.xml\n",
      "parsing ./Respacks/PackShit/Songs/loop_Sunrise.mp3\n"
     ]
    },
    {
     "name": "stderr",
     "output_type": "stream",
     "text": [
      "/Users/frankhu/opt/anaconda3/envs/ai_env/lib/python3.7/site-packages/librosa/core/audio.py:165: UserWarning: PySoundFile failed. Trying audioread instead.\n",
      "  warnings.warn(\"PySoundFile failed. Trying audioread instead.\")\n"
     ]
    },
    {
     "name": "stdout",
     "output_type": "stream",
     "text": [
      "parsing ./Respacks/PackShit/Songs/build_MustBeTheFeeling.mp3\n",
      "exception occurred\n",
      "Input signal length=0 is too small to resample from 44100->22050\n",
      "parsing ./Respacks/PackShit/Songs/build_GoofyGoober.mp3\n"
     ]
    },
    {
     "name": "stderr",
     "output_type": "stream",
     "text": [
      "/Users/frankhu/opt/anaconda3/envs/ai_env/lib/python3.7/site-packages/librosa/core/audio.py:165: UserWarning: PySoundFile failed. Trying audioread instead.\n",
      "  warnings.warn(\"PySoundFile failed. Trying audioread instead.\")\n",
      "/Users/frankhu/opt/anaconda3/envs/ai_env/lib/python3.7/site-packages/librosa/core/audio.py:165: UserWarning: PySoundFile failed. Trying audioread instead.\n",
      "  warnings.warn(\"PySoundFile failed. Trying audioread instead.\")\n"
     ]
    },
    {
     "name": "stdout",
     "output_type": "stream",
     "text": [
      "exception occurred\n",
      "Input signal length=0 is too small to resample from 44100->22050\n",
      "parsing ./Respacks/PackShit/Songs/loop_ShadowDancing.mp3\n"
     ]
    },
    {
     "name": "stderr",
     "output_type": "stream",
     "text": [
      "/Users/frankhu/opt/anaconda3/envs/ai_env/lib/python3.7/site-packages/librosa/core/audio.py:165: UserWarning: PySoundFile failed. Trying audioread instead.\n",
      "  warnings.warn(\"PySoundFile failed. Trying audioread instead.\")\n"
     ]
    },
    {
     "name": "stdout",
     "output_type": "stream",
     "text": [
      "parsing ./Respacks/PackShit/Songs/build_RhinestoneEyes.mp3\n",
      "exception occurred\n",
      "Input signal length=0 is too small to resample from 44100->22050\n",
      "parsing ./Respacks/PackShit/Songs/loop_BecomingInsane.mp3\n"
     ]
    },
    {
     "name": "stderr",
     "output_type": "stream",
     "text": [
      "/Users/frankhu/opt/anaconda3/envs/ai_env/lib/python3.7/site-packages/librosa/core/audio.py:165: UserWarning: PySoundFile failed. Trying audioread instead.\n",
      "  warnings.warn(\"PySoundFile failed. Trying audioread instead.\")\n",
      "/Users/frankhu/opt/anaconda3/envs/ai_env/lib/python3.7/site-packages/librosa/core/audio.py:165: UserWarning: PySoundFile failed. Trying audioread instead.\n",
      "  warnings.warn(\"PySoundFile failed. Trying audioread instead.\")\n"
     ]
    },
    {
     "name": "stdout",
     "output_type": "stream",
     "text": [
      "parsing ./Respacks/PackShit/Songs/build_Bonfire.mp3\n"
     ]
    },
    {
     "name": "stderr",
     "output_type": "stream",
     "text": [
      "/Users/frankhu/opt/anaconda3/envs/ai_env/lib/python3.7/site-packages/librosa/core/audio.py:165: UserWarning: PySoundFile failed. Trying audioread instead.\n",
      "  warnings.warn(\"PySoundFile failed. Trying audioread instead.\")\n"
     ]
    },
    {
     "name": "stdout",
     "output_type": "stream",
     "text": [
      "parsing ./Respacks/PackShit/Songs/loop_ReturnoftheTres.mp3\n"
     ]
    },
    {
     "name": "stderr",
     "output_type": "stream",
     "text": [
      "/Users/frankhu/opt/anaconda3/envs/ai_env/lib/python3.7/site-packages/librosa/core/audio.py:165: UserWarning: PySoundFile failed. Trying audioread instead.\n",
      "  warnings.warn(\"PySoundFile failed. Trying audioread instead.\")\n"
     ]
    },
    {
     "name": "stdout",
     "output_type": "stream",
     "text": [
      "parsing ./Respacks/PackShit/Songs/build_GardenParty.mp3\n",
      "exception occurred\n",
      "Input signal length=0 is too small to resample from 44100->22050\n",
      "parsing ./Respacks/PackShit/Songs/build_PowersofKryptonite.mp3\n"
     ]
    },
    {
     "name": "stderr",
     "output_type": "stream",
     "text": [
      "/Users/frankhu/opt/anaconda3/envs/ai_env/lib/python3.7/site-packages/librosa/core/audio.py:165: UserWarning: PySoundFile failed. Trying audioread instead.\n",
      "  warnings.warn(\"PySoundFile failed. Trying audioread instead.\")\n",
      "/Users/frankhu/opt/anaconda3/envs/ai_env/lib/python3.7/site-packages/librosa/core/audio.py:165: UserWarning: PySoundFile failed. Trying audioread instead.\n",
      "  warnings.warn(\"PySoundFile failed. Trying audioread instead.\")\n"
     ]
    },
    {
     "name": "stdout",
     "output_type": "stream",
     "text": [
      "exception occurred\n",
      "Input signal length=0 is too small to resample from 44100->22050\n",
      "./Respacks/420/songs.xml\n",
      "parsing ./Respacks/420/Songs/buildup-restofmylife.mp3\n",
      "exception occurred\n",
      "Input signal length=0 is too small to resample from 44100->22050\n",
      "parsing ./Respacks/420/Songs/buildup-smokinrollin.mp3\n"
     ]
    },
    {
     "name": "stderr",
     "output_type": "stream",
     "text": [
      "/Users/frankhu/opt/anaconda3/envs/ai_env/lib/python3.7/site-packages/librosa/core/audio.py:165: UserWarning: PySoundFile failed. Trying audioread instead.\n",
      "  warnings.warn(\"PySoundFile failed. Trying audioread instead.\")\n",
      "/Users/frankhu/opt/anaconda3/envs/ai_env/lib/python3.7/site-packages/librosa/core/audio.py:165: UserWarning: PySoundFile failed. Trying audioread instead.\n",
      "  warnings.warn(\"PySoundFile failed. Trying audioread instead.\")\n"
     ]
    },
    {
     "name": "stdout",
     "output_type": "stream",
     "text": [
      "exception occurred\n",
      "Input signal length=0 is too small to resample from 44100->22050\n",
      "parsing ./Respacks/420/Songs/buildup-holditin.mp3\n",
      "exception occurred\n",
      "Input signal length=0 is too small to resample from 44100->22050\n",
      "parsing ./Respacks/420/Songs/buildup-goodweedbadbtch.mp3\n"
     ]
    },
    {
     "name": "stderr",
     "output_type": "stream",
     "text": [
      "/Users/frankhu/opt/anaconda3/envs/ai_env/lib/python3.7/site-packages/librosa/core/audio.py:165: UserWarning: PySoundFile failed. Trying audioread instead.\n",
      "  warnings.warn(\"PySoundFile failed. Trying audioread instead.\")\n",
      "/Users/frankhu/opt/anaconda3/envs/ai_env/lib/python3.7/site-packages/librosa/core/audio.py:165: UserWarning: PySoundFile failed. Trying audioread instead.\n",
      "  warnings.warn(\"PySoundFile failed. Trying audioread instead.\")\n"
     ]
    },
    {
     "name": "stdout",
     "output_type": "stream",
     "text": [
      "exception occurred\n",
      "Input signal length=0 is too small to resample from 44100->22050\n",
      "parsing ./Respacks/420/Songs/buildup-4-2-0.mp3\n"
     ]
    },
    {
     "name": "stderr",
     "output_type": "stream",
     "text": [
      "/Users/frankhu/opt/anaconda3/envs/ai_env/lib/python3.7/site-packages/librosa/core/audio.py:165: UserWarning: PySoundFile failed. Trying audioread instead.\n",
      "  warnings.warn(\"PySoundFile failed. Trying audioread instead.\")\n"
     ]
    },
    {
     "name": "stdout",
     "output_type": "stream",
     "text": [
      "parsing ./Respacks/420/Songs/buildup-becauseigothigh.mp3\n",
      "exception occurred\n",
      "Input signal length=0 is too small to resample from 44100->22050\n",
      "parsing ./Respacks/420/Songs/buildup_smokeweed.mp3\n"
     ]
    },
    {
     "name": "stderr",
     "output_type": "stream",
     "text": [
      "/Users/frankhu/opt/anaconda3/envs/ai_env/lib/python3.7/site-packages/librosa/core/audio.py:165: UserWarning: PySoundFile failed. Trying audioread instead.\n",
      "  warnings.warn(\"PySoundFile failed. Trying audioread instead.\")\n",
      "/Users/frankhu/opt/anaconda3/envs/ai_env/lib/python3.7/site-packages/librosa/core/audio.py:165: UserWarning: PySoundFile failed. Trying audioread instead.\n",
      "  warnings.warn(\"PySoundFile failed. Trying audioread instead.\")\n"
     ]
    },
    {
     "name": "stdout",
     "output_type": "stream",
     "text": [
      "exception occurred\n",
      "Input signal length=0 is too small to resample from 44100->22050\n",
      "parsing ./Respacks/420/Songs/buildup_GreenPurple.mp3\n",
      "exception occurred\n",
      "Input signal length=0 is too small to resample from 44100->22050\n",
      "./Respacks/.ipynb_checkpoints/songs.xml\n",
      "bad path name ./Respacks/.ipynb_checkpoints/songs.xml\n",
      "./Respacks/DefaultsHQ/songs.xml\n",
      "parsing ./Respacks/DefaultsHQ/Songs/build_Finale.mp3\n"
     ]
    },
    {
     "name": "stderr",
     "output_type": "stream",
     "text": [
      "/Users/frankhu/opt/anaconda3/envs/ai_env/lib/python3.7/site-packages/librosa/core/audio.py:165: UserWarning: PySoundFile failed. Trying audioread instead.\n",
      "  warnings.warn(\"PySoundFile failed. Trying audioread instead.\")\n",
      "/Users/frankhu/opt/anaconda3/envs/ai_env/lib/python3.7/site-packages/librosa/core/audio.py:165: UserWarning: PySoundFile failed. Trying audioread instead.\n",
      "  warnings.warn(\"PySoundFile failed. Trying audioread instead.\")\n"
     ]
    },
    {
     "name": "stdout",
     "output_type": "stream",
     "text": [
      "exception occurred\n",
      "Input signal length=0 is too small to resample from 44100->22050\n",
      "parsing ./Respacks/DefaultsHQ/Songs/loop_Radioactive.mp3\n"
     ]
    },
    {
     "name": "stderr",
     "output_type": "stream",
     "text": [
      "/Users/frankhu/opt/anaconda3/envs/ai_env/lib/python3.7/site-packages/librosa/core/audio.py:165: UserWarning: PySoundFile failed. Trying audioread instead.\n",
      "  warnings.warn(\"PySoundFile failed. Trying audioread instead.\")\n"
     ]
    },
    {
     "name": "stdout",
     "output_type": "stream",
     "text": [
      "parsing ./Respacks/DefaultsHQ/Songs/loop_RowRow.mp3\n"
     ]
    },
    {
     "name": "stderr",
     "output_type": "stream",
     "text": [
      "/Users/frankhu/opt/anaconda3/envs/ai_env/lib/python3.7/site-packages/librosa/core/audio.py:165: UserWarning: PySoundFile failed. Trying audioread instead.\n",
      "  warnings.warn(\"PySoundFile failed. Trying audioread instead.\")\n"
     ]
    },
    {
     "name": "stdout",
     "output_type": "stream",
     "text": [
      "parsing ./Respacks/DefaultsHQ/Songs/build_Desire.mp3\n",
      "exception occurred\n",
      "Input signal length=0 is too small to resample from 44100->22050\n",
      "parsing ./Respacks/DefaultsHQ/Songs/loop_OutOfSight.mp3\n"
     ]
    },
    {
     "name": "stderr",
     "output_type": "stream",
     "text": [
      "/Users/frankhu/opt/anaconda3/envs/ai_env/lib/python3.7/site-packages/librosa/core/audio.py:165: UserWarning: PySoundFile failed. Trying audioread instead.\n",
      "  warnings.warn(\"PySoundFile failed. Trying audioread instead.\")\n",
      "/Users/frankhu/opt/anaconda3/envs/ai_env/lib/python3.7/site-packages/librosa/core/audio.py:165: UserWarning: PySoundFile failed. Trying audioread instead.\n",
      "  warnings.warn(\"PySoundFile failed. Trying audioread instead.\")\n"
     ]
    },
    {
     "name": "stdout",
     "output_type": "stream",
     "text": [
      "parsing ./Respacks/DefaultsHQ/Songs/build_SmileWithoutAFace.mp3\n"
     ]
    },
    {
     "name": "stderr",
     "output_type": "stream",
     "text": [
      "/Users/frankhu/opt/anaconda3/envs/ai_env/lib/python3.7/site-packages/librosa/core/audio.py:165: UserWarning: PySoundFile failed. Trying audioread instead.\n",
      "  warnings.warn(\"PySoundFile failed. Trying audioread instead.\")\n"
     ]
    },
    {
     "name": "stdout",
     "output_type": "stream",
     "text": [
      "parsing ./Respacks/DefaultsHQ/Songs/loop_CourtshipDate.mp3\n"
     ]
    },
    {
     "name": "stderr",
     "output_type": "stream",
     "text": [
      "/Users/frankhu/opt/anaconda3/envs/ai_env/lib/python3.7/site-packages/librosa/core/audio.py:165: UserWarning: PySoundFile failed. Trying audioread instead.\n",
      "  warnings.warn(\"PySoundFile failed. Trying audioread instead.\")\n"
     ]
    },
    {
     "name": "stdout",
     "output_type": "stream",
     "text": [
      "parsing ./Respacks/DefaultsHQ/Songs/build_Vordhosbn.mp3\n",
      "exception occurred\n",
      "Input signal length=0 is too small to resample from 44100->22050\n",
      "parsing ./Respacks/DefaultsHQ/Songs/loop_Orange.mp3\n"
     ]
    },
    {
     "name": "stderr",
     "output_type": "stream",
     "text": [
      "/Users/frankhu/opt/anaconda3/envs/ai_env/lib/python3.7/site-packages/librosa/core/audio.py:165: UserWarning: PySoundFile failed. Trying audioread instead.\n",
      "  warnings.warn(\"PySoundFile failed. Trying audioread instead.\")\n",
      "/Users/frankhu/opt/anaconda3/envs/ai_env/lib/python3.7/site-packages/librosa/core/audio.py:165: UserWarning: PySoundFile failed. Trying audioread instead.\n",
      "  warnings.warn(\"PySoundFile failed. Trying audioread instead.\")\n"
     ]
    },
    {
     "name": "stdout",
     "output_type": "stream",
     "text": [
      "parsing ./Respacks/DefaultsHQ/Songs/loop_Spoiler.mp3\n"
     ]
    },
    {
     "name": "stderr",
     "output_type": "stream",
     "text": [
      "/Users/frankhu/opt/anaconda3/envs/ai_env/lib/python3.7/site-packages/librosa/core/audio.py:165: UserWarning: PySoundFile failed. Trying audioread instead.\n",
      "  warnings.warn(\"PySoundFile failed. Trying audioread instead.\")\n"
     ]
    },
    {
     "name": "stdout",
     "output_type": "stream",
     "text": [
      "parsing ./Respacks/DefaultsHQ/Songs/loop_Kryptonite.mp3\n"
     ]
    },
    {
     "name": "stderr",
     "output_type": "stream",
     "text": [
      "/Users/frankhu/opt/anaconda3/envs/ai_env/lib/python3.7/site-packages/librosa/core/audio.py:165: UserWarning: PySoundFile failed. Trying audioread instead.\n",
      "  warnings.warn(\"PySoundFile failed. Trying audioread instead.\")\n"
     ]
    },
    {
     "name": "stdout",
     "output_type": "stream",
     "text": [
      "parsing ./Respacks/DefaultsHQ/Songs/loop_BeyondRightNow.mp3\n"
     ]
    },
    {
     "name": "stderr",
     "output_type": "stream",
     "text": [
      "/Users/frankhu/opt/anaconda3/envs/ai_env/lib/python3.7/site-packages/librosa/core/audio.py:165: UserWarning: PySoundFile failed. Trying audioread instead.\n",
      "  warnings.warn(\"PySoundFile failed. Trying audioread instead.\")\n"
     ]
    },
    {
     "name": "stdout",
     "output_type": "stream",
     "text": [
      "parsing ./Respacks/DefaultsHQ/Songs/loop_HoldMyLiquor.mp3\n"
     ]
    },
    {
     "name": "stderr",
     "output_type": "stream",
     "text": [
      "/Users/frankhu/opt/anaconda3/envs/ai_env/lib/python3.7/site-packages/librosa/core/audio.py:165: UserWarning: PySoundFile failed. Trying audioread instead.\n",
      "  warnings.warn(\"PySoundFile failed. Trying audioread instead.\")\n"
     ]
    },
    {
     "name": "stdout",
     "output_type": "stream",
     "text": [
      "parsing ./Respacks/DefaultsHQ/Songs/build_Heart.mp3\n",
      "exception occurred\n",
      "Input signal length=0 is too small to resample from 44100->22050\n",
      "parsing ./Respacks/DefaultsHQ/Songs/loop_FuturePeople.mp3\n"
     ]
    },
    {
     "name": "stderr",
     "output_type": "stream",
     "text": [
      "/Users/frankhu/opt/anaconda3/envs/ai_env/lib/python3.7/site-packages/librosa/core/audio.py:165: UserWarning: PySoundFile failed. Trying audioread instead.\n",
      "  warnings.warn(\"PySoundFile failed. Trying audioread instead.\")\n",
      "/Users/frankhu/opt/anaconda3/envs/ai_env/lib/python3.7/site-packages/librosa/core/audio.py:165: UserWarning: PySoundFile failed. Trying audioread instead.\n",
      "  warnings.warn(\"PySoundFile failed. Trying audioread instead.\")\n"
     ]
    },
    {
     "name": "stdout",
     "output_type": "stream",
     "text": [
      "parsing ./Respacks/DefaultsHQ/Songs/loop_Nanox.mp3\n"
     ]
    },
    {
     "name": "stderr",
     "output_type": "stream",
     "text": [
      "/Users/frankhu/opt/anaconda3/envs/ai_env/lib/python3.7/site-packages/librosa/core/audio.py:165: UserWarning: PySoundFile failed. Trying audioread instead.\n",
      "  warnings.warn(\"PySoundFile failed. Trying audioread instead.\")\n"
     ]
    },
    {
     "name": "stdout",
     "output_type": "stream",
     "text": [
      "parsing ./Respacks/DefaultsHQ/Songs/loop_BlackEarth.mp3\n"
     ]
    },
    {
     "name": "stderr",
     "output_type": "stream",
     "text": [
      "/Users/frankhu/opt/anaconda3/envs/ai_env/lib/python3.7/site-packages/librosa/core/audio.py:165: UserWarning: PySoundFile failed. Trying audioread instead.\n",
      "  warnings.warn(\"PySoundFile failed. Trying audioread instead.\")\n"
     ]
    },
    {
     "name": "stdout",
     "output_type": "stream",
     "text": [
      "parsing ./Respacks/DefaultsHQ/Songs/loop_EarlyMorningMay.mp3\n"
     ]
    },
    {
     "name": "stderr",
     "output_type": "stream",
     "text": [
      "/Users/frankhu/opt/anaconda3/envs/ai_env/lib/python3.7/site-packages/librosa/core/audio.py:165: UserWarning: PySoundFile failed. Trying audioread instead.\n",
      "  warnings.warn(\"PySoundFile failed. Trying audioread instead.\")\n"
     ]
    },
    {
     "name": "stdout",
     "output_type": "stream",
     "text": [
      "parsing ./Respacks/DefaultsHQ/Songs/build_Weapon.mp3\n",
      "exception occurred\n",
      "Input signal length=0 is too small to resample from 44100->22050\n",
      "parsing ./Respacks/DefaultsHQ/Songs/build_LoveOnHaightStreet.mp3\n"
     ]
    },
    {
     "name": "stderr",
     "output_type": "stream",
     "text": [
      "/Users/frankhu/opt/anaconda3/envs/ai_env/lib/python3.7/site-packages/librosa/core/audio.py:165: UserWarning: PySoundFile failed. Trying audioread instead.\n",
      "  warnings.warn(\"PySoundFile failed. Trying audioread instead.\")\n",
      "/Users/frankhu/opt/anaconda3/envs/ai_env/lib/python3.7/site-packages/librosa/core/audio.py:165: UserWarning: PySoundFile failed. Trying audioread instead.\n",
      "  warnings.warn(\"PySoundFile failed. Trying audioread instead.\")\n"
     ]
    },
    {
     "name": "stdout",
     "output_type": "stream",
     "text": [
      "exception occurred\n",
      "Input signal length=0 is too small to resample from 44100->22050\n",
      "parsing ./Respacks/DefaultsHQ/Songs/build_TheClockmaker.mp3\n",
      "exception occurred\n",
      "Input signal length=0 is too small to resample from 44100->22050\n",
      "./Respacks/.ipynb_checkpoints/songs.xml\n",
      "bad path name ./Respacks/.ipynb_checkpoints/songs.xml\n",
      "./Respacks/Yukata/songs.xml\n",
      "bad path name ./Respacks/Yukata/songs.xml\n",
      "./Respacks/.ipynb_checkpoints/songs.xml\n",
      "bad path name ./Respacks/.ipynb_checkpoints/songs.xml\n",
      "./Respacks/snoop/songs.xml\n",
      "bad path name ./Respacks/snoop/songs.xml\n",
      "./Respacks/.ipynb_checkpoints/songs.xml\n",
      "bad path name ./Respacks/.ipynb_checkpoints/songs.xml\n",
      "./Respacks/.ipynb_checkpoints/songs.xml\n",
      "bad path name ./Respacks/.ipynb_checkpoints/songs.xml\n",
      "./Respacks/Animations/songs.xml\n",
      "bad path name ./Respacks/Animations/songs.xml\n",
      "./Respacks/Bob/songs.xml\n",
      "bad path name ./Respacks/Bob/songs.xml\n"
     ]
    },
    {
     "name": "stderr",
     "output_type": "stream",
     "text": [
      "/Users/frankhu/opt/anaconda3/envs/ai_env/lib/python3.7/site-packages/librosa/core/audio.py:165: UserWarning: PySoundFile failed. Trying audioread instead.\n",
      "  warnings.warn(\"PySoundFile failed. Trying audioread instead.\")\n"
     ]
    }
   ],
   "source": [
    "# Parse and extract features from audio and build dictionary with song_name -> audio features\n",
    "        \n",
    "def parseSong(y, sr):\n",
    "    T = 30.0    # seconds\n",
    "    t = np.linspace(0, T, int(T*sr), endpoint=False) # time variable\n",
    "    x = 0.5*np.sin(2*np.pi*220*t)# pure sine wave at 220 Hz\n",
    "    D = librosa.stft(y)\n",
    "    ret_dict = dict()\n",
    "    ret_dict['D_harmonic4'], ret_dict['D_percussive4'] = librosa.decompose.hpss(D, margin=4)\n",
    "    ret_dict['D_harmonic16'], ret_dict['D_percussive16'] = librosa.decompose.hpss(D, margin=16)\n",
    "    ret_dict['spectral_centroids'] = librosa.feature.spectral_centroid(x, sr=sr)[0]\n",
    "    ret_dict['spectral_rolloff'] = librosa.feature.spectral_rolloff(x+0.01, sr=sr)[0]\n",
    "    \n",
    "    \n",
    "    #spectral_bandwidth_2 = librosa.feature.spectral_bandwidth(x+0.01, sr=sr)[0]\n",
    "    #spectral_bandwidth_3 = librosa.feature.spectral_bandwidth(x+0.01, sr=sr, p=3)[0]\n",
    "    #spectral_bandwidth_4 = librosa.feature.spectral_bandwidth(x+0.01, sr=sr, p=4)[0]\n",
    "    #ret_dict['spectral_bandwidth_2'] = spectral_bandwidth_2\n",
    "    #ret_dict['spectral_bandwidth_3'] = spectral_bandwidth_3\n",
    "    #ret_dict['spectral_bandwidth_4'] = spectral_bandwidth_4\n",
    "    return ret_dict\n",
    "\n",
    "# dict(audio_name -> dict(features -> values))\n",
    "audio_rhythm_feature_map = defaultdict(dict)\n",
    "audio_build_up_rhythm_feature_map = defaultdict(dict)\n",
    "\n",
    "for folder in respack_folders:\n",
    "    path_name = './Respacks/' + folder + '/songs.xml'\n",
    "    print(path_name)\n",
    "    if exists(path_name):\n",
    "        song_xml = xml.dom.minidom.parse(path_name)\n",
    "        songs = song_xml.getElementsByTagName('song')\n",
    "        for song in songs:\n",
    "            # parsing rhythms\n",
    "            curr_song_name = song.getAttribute('name')\n",
    "            song_path_name = None\n",
    "            is_rhythm = False\n",
    "            is_build_up = False\n",
    "            if len(song.getElementsByTagName('rhythm')) > 0:\n",
    "                is_rhythm = True\n",
    "                song_path_name = path_name = './Respacks/' + folder +'/Songs/' + curr_song_name + '.mp3'\n",
    "            \n",
    "            if len(song.getElementsByTagName('buildup')) > 0:\n",
    "                is_build_up - True\n",
    "                build_up_name = song.getElementsByTagName('buildup')[0].firstChild.nodeValue\n",
    "                song_path_name = path_name = './Respacks/' + folder +'/Songs/' + build_up_name + '.mp3'\n",
    "                    \n",
    "            # load the song\n",
    "            if exists(song_path_name):\n",
    "                print('parsing ' + str(song_path_name))\n",
    "                try:\n",
    "                    y, sr = librosa.load(song_path_name, duration=5, offset=10)\n",
    "                    if is_rhythm:\n",
    "                        audio_rhythm_feature_map[curr_song_name] = parseSong(y,sr)\n",
    "                    elif is_build_up:\n",
    "                        audio_build_up_rhythm_feature_map[build_up_name] = parseSong(y,sr)\n",
    "                except Exception as e:\n",
    "                    print('exception occurred')\n",
    "                    print(e)\n",
    "            else:\n",
    "                print('file name doesn\\'t exist ' + rhythm_song_path_name)\n",
    "    else:\n",
    "        print('bad path name ' + str(path_name))\n",
    "        "
   ]
  },
  {
   "cell_type": "code",
   "execution_count": null,
   "metadata": {},
   "outputs": [],
   "source": [
    "index = 0\n",
    "total_files_to_print = 10\n",
    "for folder in respack_folders:\n",
    "    if index == total_files_to_print:\n",
    "        break\n",
    "    path_name = './Respacks/' + folder + '/songs.xml'\n",
    "    print(path_name)\n",
    "    if exists(path_name):\n",
    "        song_xml = xml.dom.minidom.parse(path_name)\n",
    "        songs = song_xml.getElementsByTagName('song')\n",
    "        for song in songs:\n",
    "            index += 1\n",
    "            if index == total_files_to_print:\n",
    "                break\n",
    "            # parsing rhythms\n",
    "            curr_song_name = song.getAttribute('name')\n",
    "            song_path_name = None\n",
    "            is_rhythm = False\n",
    "            is_build_up = False\n",
    "            if len(song.getElementsByTagName('rhythm')) > 0:\n",
    "                is_rhythm = True\n",
    "                song_path_name = path_name = './Respacks/' + folder +'/Songs/' + curr_song_name + '.mp3'\n",
    "            \n",
    "            if len(song.getElementsByTagName('buildup')) > 0:\n",
    "                is_build_up - True\n",
    "                build_up_name = song.getElementsByTagName('buildup')[0].firstChild.nodeValue\n",
    "                song_path_name = path_name = './Respacks/' + folder +'/Songs/' + build_up_name + '.mp3'\n",
    "                    \n",
    "            # load the song\n",
    "            if exists(song_path_name):\n",
    "                print('outputting features for ' + str(song_path_name))\n",
    "                if is_rhythm:\n",
    "                    for key in audio_rhythm_feature_map[curr_song_name].keys():\n",
    "                        print(key)\n",
    "                        print(len(audio_rhythm_feature_map[curr_song_name][key]))\n",
    "                elif is_build_up:\n",
    "                    print(audio_build_up_rhythm_feature_map[build_up_name])\n",
    "            else:\n",
    "                print('file name doesn\\'t exist ' + rhythm_song_path_name)\n",
    "    else:\n",
    "        print('bad path name ' + str(path_name))\n",
    "        "
   ]
  },
  {
   "cell_type": "code",
   "execution_count": 8,
   "metadata": {},
   "outputs": [
    {
     "name": "stdout",
     "output_type": "stream",
     "text": [
      "72\n",
      "72\n"
     ]
    }
   ],
   "source": [
    "# evaluate random forest algorithm for classification\n",
    "\n",
    "# features = audio features\n",
    "# labels = rhythm/buildup\n",
    "features = []\n",
    "labels = []\n",
    "for song_name in rhythm_map.keys():\n",
    "    if song_name in audio_rhythm_feature_map:\n",
    "        labels.append(rhythm_map[song_name])\n",
    "        features.append([])\n",
    "        for feature in audio_rhythm_feature_map[song_name]:\n",
    "            if feature in audio_rhythm_feature_map[song_name]:\n",
    "                for feature_index in range(len(audio_rhythm_feature_map[song_name][feature])):\n",
    "                    x = audio_rhythm_feature_map[song_name][feature][feature_index]\n",
    "                    complex_to_real = x.real + x.imag\n",
    "                    features[-1].append(complex_to_real)\n",
    "print(len(labels))\n",
    "print(len(features))\n",
    "# print(total/130)\n",
    "# audio_rhythm_features = audio_rhythm_feature_map.values()\n",
    "# audio_rhythm_labels = rhythm_map.values()"
   ]
  },
  {
   "cell_type": "code",
   "execution_count": null,
   "metadata": {},
   "outputs": [
    {
     "name": "stdout",
     "output_type": "stream",
     "text": [
      "72\n",
      "72\n"
     ]
    }
   ],
   "source": [
    "post_processed_labels = []\n",
    "post_processed_features = []\n",
    "print(len(features))\n",
    "print(len(labels))\n",
    "for index in range(len(labels)):\n",
    "    for beat_index in range(len(labels[index])):\n",
    "        post_processed_labels.append(labels[index][beat_index])\n",
    "        post_processed_features.append([])\n",
    "        complex_to_real = 0 \n",
    "        post_processed_features[-1].append(complex_to_real)\n",
    "        for feature_index in range(len(features[index])):\n",
    "            x = features[index][feature_index]\n",
    "            complex_to_real = x.real + x.imag\n",
    "            post_processed_features[-1].append(complex_to_real)\n",
    "            # print(complex_to_real)\n",
    "            \n",
    "    #print(len(post_processed_labels[index]))\n",
    "    #print(len(post_processed_features[index]))\n",
    "print(len(post_processed_labels))\n",
    "print(len(post_processed_features[0]))"
   ]
  },
  {
   "cell_type": "code",
   "execution_count": null,
   "metadata": {},
   "outputs": [],
   "source": [
    "# define the model\n",
    "model = RandomForestClassifier()\n",
    "# evaluate the model\n",
    "cv = RepeatedStratifiedKFold(n_splits=2, n_repeats=3, random_state=1)\n",
    "n_scores = cross_val_score(model, features, labels, scoring='accuracy', cv=cv, n_jobs=-1, error_score='raise')\n",
    "# report performance\n",
    "print('Accuracy: %.3f (%.3f)' % (mean(n_scores), std(n_scores)))"
   ]
  },
  {
   "cell_type": "code",
   "execution_count": null,
   "metadata": {},
   "outputs": [],
   "source": [
    "for index in range(len(post_processed_labels)):\n",
    "    print(len(post_processed_labels[index]))\n",
    "    print(len(post_processed_features[index]))"
   ]
  },
  {
   "cell_type": "code",
   "execution_count": null,
   "metadata": {},
   "outputs": [],
   "source": [
    "model.fit(np.array(features), np.array(labels))"
   ]
  },
  {
   "cell_type": "code",
   "execution_count": null,
   "metadata": {},
   "outputs": [],
   "source": [
    "\n",
    "# dict(audio_name -> dict(features -> values))\n",
    "path_name = 'chocomint.flac'\n",
    "print(path_name)\n",
    "if exists(path_name):\n",
    "    print('parsing ' + str(path_name))\n",
    "    try:\n",
    "        y, sr = librosa.load(path_name, duration=5, offset=10)\n",
    "        single_song = parseSong(y,sr)\n",
    "    except Exception as e:\n",
    "        print('exception occurred')\n",
    "        print(e)\n",
    "else:\n",
    "    print('bad path name ' + str(path_name))"
   ]
  },
  {
   "cell_type": "code",
   "execution_count": null,
   "metadata": {},
   "outputs": [],
   "source": [
    "single_feature_input = []\n",
    "for feature in single_song:\n",
    "    for feature_index in range(len(single_song[feature])):\n",
    "        x = single_song[feature][feature_index]\n",
    "        complex_to_real = x.real + x.imag\n",
    "        single_feature_input.append(complex_to_real)\n",
    "'''\n",
    "for index in range(len(single_feature_input)):\n",
    "    model.predict(np.array([single_feature_input[index][:2]]))\n",
    "'''\n",
    "model.predict(np.array([single_feature_input]))\n"
   ]
  },
  {
   "cell_type": "code",
   "execution_count": null,
   "metadata": {},
   "outputs": [],
   "source": [
    "forest = ChallengeClassifier()\n",
    "print(len(features))\n",
    "print(len(labels))\n",
    "forest.fit(features, labels)\n",
    "output = forest.classify(features)"
   ]
  }
 ],
 "metadata": {
  "kernelspec": {
   "display_name": "Python 3",
   "language": "python",
   "name": "python3"
  },
  "language_info": {
   "codemirror_mode": {
    "name": "ipython",
    "version": 3
   },
   "file_extension": ".py",
   "mimetype": "text/x-python",
   "name": "python",
   "nbconvert_exporter": "python",
   "pygments_lexer": "ipython3",
   "version": "3.7.11"
  }
 },
 "nbformat": 4,
 "nbformat_minor": 4
}
